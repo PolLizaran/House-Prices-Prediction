{
  "nbformat": 4,
  "nbformat_minor": 0,
  "metadata": {
    "colab": {
      "name": "AA1 Modelling.ipynb",
      "provenance": [],
      "collapsed_sections": []
    },
    "kernelspec": {
      "name": "python3",
      "display_name": "Python 3"
    },
    "language_info": {
      "name": "python"
    }
  },
  "cells": [
    {
      "cell_type": "markdown",
      "source": [
        "Made by: Maria Arroyo Álvarez, Rodrigo Bonferroni & Pol Lizaran Campano"
      ],
      "metadata": {
        "id": "gJbujUCDlG3M"
      }
    },
    {
      "cell_type": "markdown",
      "source": [
        "# **PREDICTING HOUSE PRICES BY REGRESSION AND CLASSIFICATION METHODS**"
      ],
      "metadata": {
        "id": "x82jU5cMlbUm"
      }
    },
    {
      "cell_type": "markdown",
      "source": [
        "### Libraries to import"
      ],
      "metadata": {
        "id": "Du5CeaezdKSw"
      }
    },
    {
      "cell_type": "code",
      "execution_count": 259,
      "metadata": {
        "id": "N03LMsZSuPLE"
      },
      "outputs": [],
      "source": [
        "import csv\n",
        "import math\n",
        "import matplotlib.pyplot as plt\n",
        "import numpy as np\n",
        "import pandas as pd\n",
        "import seaborn as sns\n",
        "import sklearn as sk\n",
        "import warnings"
      ]
    },
    {
      "cell_type": "markdown",
      "source": [
        "### Data importation"
      ],
      "metadata": {
        "id": "1UN26RrfjDTh"
      }
    },
    {
      "cell_type": "code",
      "source": [
        "Houses_tr = pd.read_csv('Processed_tr.csv', header = 0, sep = ',', delimiter = None)\n",
        "Houses_te = pd.read_csv('Processed_te.csv', header = 0, sep = ',', delimiter = None)"
      ],
      "metadata": {
        "id": "pHMv867KjB_B"
      },
      "execution_count": 260,
      "outputs": []
    },
    {
      "cell_type": "code",
      "source": [
        "Houses_tr.head(10) # Checking"
      ],
      "metadata": {
        "id": "fTtCmg5h8Ba5",
        "colab": {
          "base_uri": "https://localhost:8080/",
          "height": 392
        },
        "outputId": "1fb6e5f7-3bb8-4231-9c93-effbd04a70b9"
      },
      "execution_count": 263,
      "outputs": [
        {
          "output_type": "execute_result",
          "data": {
            "text/plain": [
              "   attribute_0          id      price  bedrooms  bathrooms  sqm_living  \\\n",
              "0            1  6414100192  13.195614         3       2.25    5.475462   \n",
              "1            3  2487200875  13.311329         4       3.00    5.204501   \n",
              "2            4  1954400510  13.142166         3       2.00    5.050350   \n",
              "3            5  7237550310  14.018451         4       4.50    6.221652   \n",
              "4            6  1321400060  12.458775         3       2.25    5.070969   \n",
              "5            7  2008000270  12.583995         3       1.50    4.589825   \n",
              "6            8  2414600126  12.343658         3       1.00    5.108170   \n",
              "7            9  3793500160  12.685408         3       2.50    5.168133   \n",
              "8           10  1736800520  13.403776         3       2.50    5.801317   \n",
              "9           12   114101516  12.644328         3       1.00    4.889231   \n",
              "\n",
              "    sqm_lot  floors  waterfront  view  ...   sqm_above  sqm_basement  \\\n",
              "0  6.511454     2.0           0     0  ...  201.599597     37.161216   \n",
              "1  6.140994     1.0           0     0  ...   97.548192     84.541766   \n",
              "2  6.620948     1.0           0     0  ...  156.077107      0.000000   \n",
              "3  9.155843     1.0           0     0  ...  361.392826    142.141651   \n",
              "4  6.451269     2.0           0     0  ...  159.328714      0.000000   \n",
              "5  6.804816     1.0           0     0  ...   98.477222      0.000000   \n",
              "6  6.542451     1.0           0     0  ...   97.548192     67.819219   \n",
              "7  6.412547     2.0           0     0  ...  175.586746      0.000000   \n",
              "8  6.813531     1.0           0     0  ...  172.799654    157.935168   \n",
              "9  7.522326     1.5           0     0  ...  132.851347      0.000000   \n",
              "\n",
              "   yr_built  yr_renovated  zipcode      lat     long  sqm_living15  \\\n",
              "0      1951          1991    98125  47.7210 -122.319    157.006138   \n",
              "1      1965             0    98136  47.5208 -122.393    126.348134   \n",
              "2      1987             0    98074  47.6168 -122.045    167.225472   \n",
              "3      2001             0    98053  47.6561 -122.005    442.218470   \n",
              "4      1995             0    98003  47.3097 -122.327    207.917004   \n",
              "5      1963             0    98198  47.4095 -122.315    153.290016   \n",
              "6      1960             0    98146  47.5123 -122.337    165.367411   \n",
              "7      2003             0    98038  47.3684 -122.031    222.038266   \n",
              "8      1965             0    98007  47.6007 -122.145    205.315718   \n",
              "9      1927             0    98028  47.7558 -122.229    165.367411   \n",
              "\n",
              "    sqm_lot15  age  \n",
              "0  644.096776   24  \n",
              "1  470.460995   50  \n",
              "2  632.948412   28  \n",
              "3   13.285135   14  \n",
              "4  587.240116   20  \n",
              "5  790.233258   52  \n",
              "6  680.607671   55  \n",
              "7  638.522594   12  \n",
              "8  741.366259   50  \n",
              "9  120.588146   88  \n",
              "\n",
              "[10 rows x 22 columns]"
            ],
            "text/html": [
              "\n",
              "  <div id=\"df-bce9bd9e-e181-4162-908e-6ce3224c6589\">\n",
              "    <div class=\"colab-df-container\">\n",
              "      <div>\n",
              "<style scoped>\n",
              "    .dataframe tbody tr th:only-of-type {\n",
              "        vertical-align: middle;\n",
              "    }\n",
              "\n",
              "    .dataframe tbody tr th {\n",
              "        vertical-align: top;\n",
              "    }\n",
              "\n",
              "    .dataframe thead th {\n",
              "        text-align: right;\n",
              "    }\n",
              "</style>\n",
              "<table border=\"1\" class=\"dataframe\">\n",
              "  <thead>\n",
              "    <tr style=\"text-align: right;\">\n",
              "      <th></th>\n",
              "      <th>attribute_0</th>\n",
              "      <th>id</th>\n",
              "      <th>price</th>\n",
              "      <th>bedrooms</th>\n",
              "      <th>bathrooms</th>\n",
              "      <th>sqm_living</th>\n",
              "      <th>sqm_lot</th>\n",
              "      <th>floors</th>\n",
              "      <th>waterfront</th>\n",
              "      <th>view</th>\n",
              "      <th>...</th>\n",
              "      <th>sqm_above</th>\n",
              "      <th>sqm_basement</th>\n",
              "      <th>yr_built</th>\n",
              "      <th>yr_renovated</th>\n",
              "      <th>zipcode</th>\n",
              "      <th>lat</th>\n",
              "      <th>long</th>\n",
              "      <th>sqm_living15</th>\n",
              "      <th>sqm_lot15</th>\n",
              "      <th>age</th>\n",
              "    </tr>\n",
              "  </thead>\n",
              "  <tbody>\n",
              "    <tr>\n",
              "      <th>0</th>\n",
              "      <td>1</td>\n",
              "      <td>6414100192</td>\n",
              "      <td>13.195614</td>\n",
              "      <td>3</td>\n",
              "      <td>2.25</td>\n",
              "      <td>5.475462</td>\n",
              "      <td>6.511454</td>\n",
              "      <td>2.0</td>\n",
              "      <td>0</td>\n",
              "      <td>0</td>\n",
              "      <td>...</td>\n",
              "      <td>201.599597</td>\n",
              "      <td>37.161216</td>\n",
              "      <td>1951</td>\n",
              "      <td>1991</td>\n",
              "      <td>98125</td>\n",
              "      <td>47.7210</td>\n",
              "      <td>-122.319</td>\n",
              "      <td>157.006138</td>\n",
              "      <td>644.096776</td>\n",
              "      <td>24</td>\n",
              "    </tr>\n",
              "    <tr>\n",
              "      <th>1</th>\n",
              "      <td>3</td>\n",
              "      <td>2487200875</td>\n",
              "      <td>13.311329</td>\n",
              "      <td>4</td>\n",
              "      <td>3.00</td>\n",
              "      <td>5.204501</td>\n",
              "      <td>6.140994</td>\n",
              "      <td>1.0</td>\n",
              "      <td>0</td>\n",
              "      <td>0</td>\n",
              "      <td>...</td>\n",
              "      <td>97.548192</td>\n",
              "      <td>84.541766</td>\n",
              "      <td>1965</td>\n",
              "      <td>0</td>\n",
              "      <td>98136</td>\n",
              "      <td>47.5208</td>\n",
              "      <td>-122.393</td>\n",
              "      <td>126.348134</td>\n",
              "      <td>470.460995</td>\n",
              "      <td>50</td>\n",
              "    </tr>\n",
              "    <tr>\n",
              "      <th>2</th>\n",
              "      <td>4</td>\n",
              "      <td>1954400510</td>\n",
              "      <td>13.142166</td>\n",
              "      <td>3</td>\n",
              "      <td>2.00</td>\n",
              "      <td>5.050350</td>\n",
              "      <td>6.620948</td>\n",
              "      <td>1.0</td>\n",
              "      <td>0</td>\n",
              "      <td>0</td>\n",
              "      <td>...</td>\n",
              "      <td>156.077107</td>\n",
              "      <td>0.000000</td>\n",
              "      <td>1987</td>\n",
              "      <td>0</td>\n",
              "      <td>98074</td>\n",
              "      <td>47.6168</td>\n",
              "      <td>-122.045</td>\n",
              "      <td>167.225472</td>\n",
              "      <td>632.948412</td>\n",
              "      <td>28</td>\n",
              "    </tr>\n",
              "    <tr>\n",
              "      <th>3</th>\n",
              "      <td>5</td>\n",
              "      <td>7237550310</td>\n",
              "      <td>14.018451</td>\n",
              "      <td>4</td>\n",
              "      <td>4.50</td>\n",
              "      <td>6.221652</td>\n",
              "      <td>9.155843</td>\n",
              "      <td>1.0</td>\n",
              "      <td>0</td>\n",
              "      <td>0</td>\n",
              "      <td>...</td>\n",
              "      <td>361.392826</td>\n",
              "      <td>142.141651</td>\n",
              "      <td>2001</td>\n",
              "      <td>0</td>\n",
              "      <td>98053</td>\n",
              "      <td>47.6561</td>\n",
              "      <td>-122.005</td>\n",
              "      <td>442.218470</td>\n",
              "      <td>13.285135</td>\n",
              "      <td>14</td>\n",
              "    </tr>\n",
              "    <tr>\n",
              "      <th>4</th>\n",
              "      <td>6</td>\n",
              "      <td>1321400060</td>\n",
              "      <td>12.458775</td>\n",
              "      <td>3</td>\n",
              "      <td>2.25</td>\n",
              "      <td>5.070969</td>\n",
              "      <td>6.451269</td>\n",
              "      <td>2.0</td>\n",
              "      <td>0</td>\n",
              "      <td>0</td>\n",
              "      <td>...</td>\n",
              "      <td>159.328714</td>\n",
              "      <td>0.000000</td>\n",
              "      <td>1995</td>\n",
              "      <td>0</td>\n",
              "      <td>98003</td>\n",
              "      <td>47.3097</td>\n",
              "      <td>-122.327</td>\n",
              "      <td>207.917004</td>\n",
              "      <td>587.240116</td>\n",
              "      <td>20</td>\n",
              "    </tr>\n",
              "    <tr>\n",
              "      <th>5</th>\n",
              "      <td>7</td>\n",
              "      <td>2008000270</td>\n",
              "      <td>12.583995</td>\n",
              "      <td>3</td>\n",
              "      <td>1.50</td>\n",
              "      <td>4.589825</td>\n",
              "      <td>6.804816</td>\n",
              "      <td>1.0</td>\n",
              "      <td>0</td>\n",
              "      <td>0</td>\n",
              "      <td>...</td>\n",
              "      <td>98.477222</td>\n",
              "      <td>0.000000</td>\n",
              "      <td>1963</td>\n",
              "      <td>0</td>\n",
              "      <td>98198</td>\n",
              "      <td>47.4095</td>\n",
              "      <td>-122.315</td>\n",
              "      <td>153.290016</td>\n",
              "      <td>790.233258</td>\n",
              "      <td>52</td>\n",
              "    </tr>\n",
              "    <tr>\n",
              "      <th>6</th>\n",
              "      <td>8</td>\n",
              "      <td>2414600126</td>\n",
              "      <td>12.343658</td>\n",
              "      <td>3</td>\n",
              "      <td>1.00</td>\n",
              "      <td>5.108170</td>\n",
              "      <td>6.542451</td>\n",
              "      <td>1.0</td>\n",
              "      <td>0</td>\n",
              "      <td>0</td>\n",
              "      <td>...</td>\n",
              "      <td>97.548192</td>\n",
              "      <td>67.819219</td>\n",
              "      <td>1960</td>\n",
              "      <td>0</td>\n",
              "      <td>98146</td>\n",
              "      <td>47.5123</td>\n",
              "      <td>-122.337</td>\n",
              "      <td>165.367411</td>\n",
              "      <td>680.607671</td>\n",
              "      <td>55</td>\n",
              "    </tr>\n",
              "    <tr>\n",
              "      <th>7</th>\n",
              "      <td>9</td>\n",
              "      <td>3793500160</td>\n",
              "      <td>12.685408</td>\n",
              "      <td>3</td>\n",
              "      <td>2.50</td>\n",
              "      <td>5.168133</td>\n",
              "      <td>6.412547</td>\n",
              "      <td>2.0</td>\n",
              "      <td>0</td>\n",
              "      <td>0</td>\n",
              "      <td>...</td>\n",
              "      <td>175.586746</td>\n",
              "      <td>0.000000</td>\n",
              "      <td>2003</td>\n",
              "      <td>0</td>\n",
              "      <td>98038</td>\n",
              "      <td>47.3684</td>\n",
              "      <td>-122.031</td>\n",
              "      <td>222.038266</td>\n",
              "      <td>638.522594</td>\n",
              "      <td>12</td>\n",
              "    </tr>\n",
              "    <tr>\n",
              "      <th>8</th>\n",
              "      <td>10</td>\n",
              "      <td>1736800520</td>\n",
              "      <td>13.403776</td>\n",
              "      <td>3</td>\n",
              "      <td>2.50</td>\n",
              "      <td>5.801317</td>\n",
              "      <td>6.813531</td>\n",
              "      <td>1.0</td>\n",
              "      <td>0</td>\n",
              "      <td>0</td>\n",
              "      <td>...</td>\n",
              "      <td>172.799654</td>\n",
              "      <td>157.935168</td>\n",
              "      <td>1965</td>\n",
              "      <td>0</td>\n",
              "      <td>98007</td>\n",
              "      <td>47.6007</td>\n",
              "      <td>-122.145</td>\n",
              "      <td>205.315718</td>\n",
              "      <td>741.366259</td>\n",
              "      <td>50</td>\n",
              "    </tr>\n",
              "    <tr>\n",
              "      <th>9</th>\n",
              "      <td>12</td>\n",
              "      <td>114101516</td>\n",
              "      <td>12.644328</td>\n",
              "      <td>3</td>\n",
              "      <td>1.00</td>\n",
              "      <td>4.889231</td>\n",
              "      <td>7.522326</td>\n",
              "      <td>1.5</td>\n",
              "      <td>0</td>\n",
              "      <td>0</td>\n",
              "      <td>...</td>\n",
              "      <td>132.851347</td>\n",
              "      <td>0.000000</td>\n",
              "      <td>1927</td>\n",
              "      <td>0</td>\n",
              "      <td>98028</td>\n",
              "      <td>47.7558</td>\n",
              "      <td>-122.229</td>\n",
              "      <td>165.367411</td>\n",
              "      <td>120.588146</td>\n",
              "      <td>88</td>\n",
              "    </tr>\n",
              "  </tbody>\n",
              "</table>\n",
              "<p>10 rows × 22 columns</p>\n",
              "</div>\n",
              "      <button class=\"colab-df-convert\" onclick=\"convertToInteractive('df-bce9bd9e-e181-4162-908e-6ce3224c6589')\"\n",
              "              title=\"Convert this dataframe to an interactive table.\"\n",
              "              style=\"display:none;\">\n",
              "        \n",
              "  <svg xmlns=\"http://www.w3.org/2000/svg\" height=\"24px\"viewBox=\"0 0 24 24\"\n",
              "       width=\"24px\">\n",
              "    <path d=\"M0 0h24v24H0V0z\" fill=\"none\"/>\n",
              "    <path d=\"M18.56 5.44l.94 2.06.94-2.06 2.06-.94-2.06-.94-.94-2.06-.94 2.06-2.06.94zm-11 1L8.5 8.5l.94-2.06 2.06-.94-2.06-.94L8.5 2.5l-.94 2.06-2.06.94zm10 10l.94 2.06.94-2.06 2.06-.94-2.06-.94-.94-2.06-.94 2.06-2.06.94z\"/><path d=\"M17.41 7.96l-1.37-1.37c-.4-.4-.92-.59-1.43-.59-.52 0-1.04.2-1.43.59L10.3 9.45l-7.72 7.72c-.78.78-.78 2.05 0 2.83L4 21.41c.39.39.9.59 1.41.59.51 0 1.02-.2 1.41-.59l7.78-7.78 2.81-2.81c.8-.78.8-2.07 0-2.86zM5.41 20L4 18.59l7.72-7.72 1.47 1.35L5.41 20z\"/>\n",
              "  </svg>\n",
              "      </button>\n",
              "      \n",
              "  <style>\n",
              "    .colab-df-container {\n",
              "      display:flex;\n",
              "      flex-wrap:wrap;\n",
              "      gap: 12px;\n",
              "    }\n",
              "\n",
              "    .colab-df-convert {\n",
              "      background-color: #E8F0FE;\n",
              "      border: none;\n",
              "      border-radius: 50%;\n",
              "      cursor: pointer;\n",
              "      display: none;\n",
              "      fill: #1967D2;\n",
              "      height: 32px;\n",
              "      padding: 0 0 0 0;\n",
              "      width: 32px;\n",
              "    }\n",
              "\n",
              "    .colab-df-convert:hover {\n",
              "      background-color: #E2EBFA;\n",
              "      box-shadow: 0px 1px 2px rgba(60, 64, 67, 0.3), 0px 1px 3px 1px rgba(60, 64, 67, 0.15);\n",
              "      fill: #174EA6;\n",
              "    }\n",
              "\n",
              "    [theme=dark] .colab-df-convert {\n",
              "      background-color: #3B4455;\n",
              "      fill: #D2E3FC;\n",
              "    }\n",
              "\n",
              "    [theme=dark] .colab-df-convert:hover {\n",
              "      background-color: #434B5C;\n",
              "      box-shadow: 0px 1px 3px 1px rgba(0, 0, 0, 0.15);\n",
              "      filter: drop-shadow(0px 1px 2px rgba(0, 0, 0, 0.3));\n",
              "      fill: #FFFFFF;\n",
              "    }\n",
              "  </style>\n",
              "\n",
              "      <script>\n",
              "        const buttonEl =\n",
              "          document.querySelector('#df-bce9bd9e-e181-4162-908e-6ce3224c6589 button.colab-df-convert');\n",
              "        buttonEl.style.display =\n",
              "          google.colab.kernel.accessAllowed ? 'block' : 'none';\n",
              "\n",
              "        async function convertToInteractive(key) {\n",
              "          const element = document.querySelector('#df-bce9bd9e-e181-4162-908e-6ce3224c6589');\n",
              "          const dataTable =\n",
              "            await google.colab.kernel.invokeFunction('convertToInteractive',\n",
              "                                                     [key], {});\n",
              "          if (!dataTable) return;\n",
              "\n",
              "          const docLinkHtml = 'Like what you see? Visit the ' +\n",
              "            '<a target=\"_blank\" href=https://colab.research.google.com/notebooks/data_table.ipynb>data table notebook</a>'\n",
              "            + ' to learn more about interactive tables.';\n",
              "          element.innerHTML = '';\n",
              "          dataTable['output_type'] = 'display_data';\n",
              "          await google.colab.output.renderOutput(dataTable, element);\n",
              "          const docLink = document.createElement('div');\n",
              "          docLink.innerHTML = docLinkHtml;\n",
              "          element.appendChild(docLink);\n",
              "        }\n",
              "      </script>\n",
              "    </div>\n",
              "  </div>\n",
              "  "
            ]
          },
          "metadata": {},
          "execution_count": 263
        }
      ]
    },
    {
      "cell_type": "markdown",
      "source": [
        "### Scaling of numeric features"
      ],
      "metadata": {
        "id": "t687sRmUjJXY"
      }
    },
    {
      "cell_type": "code",
      "source": [
        "# We will only scale the numeric features of the dataset\n",
        "\n",
        "numeric_features = ['price', 'sqm_living', 'sqm_lot', 'sqm_above', 'sqm_basement', 'sqm_living15', 'sqm_lot15']\n",
        "\n",
        "mean_numeric_tr = np.mean(Houses_tr[numeric_features])\n",
        "std_numeric_tr = np.std(Houses_tr[numeric_features])\n",
        "\n",
        "# Scale both sets with the values from training set\n",
        "\n",
        "for i in range(len(numeric_features)):\n",
        "  Houses_tr[numeric_features[i]] = (Houses_tr[numeric_features[i]] - mean_numeric_tr[numeric_features[i]])/std_numeric_tr[numeric_features[i]]\n",
        "  Houses_te[numeric_features[i]] = (Houses_te[numeric_features[i]] - mean_numeric_tr[numeric_features[i]])/std_numeric_tr[numeric_features[i]]"
      ],
      "metadata": {
        "id": "ePv41M4EdeTy"
      },
      "execution_count": 264,
      "outputs": []
    },
    {
      "cell_type": "code",
      "source": [
        "Houses_tr.head(10) # Checking"
      ],
      "metadata": {
        "id": "bPWC9lUF8EyE",
        "colab": {
          "base_uri": "https://localhost:8080/",
          "height": 392
        },
        "outputId": "117e31a3-663d-445c-e544-75bf31a3fcee"
      },
      "execution_count": 265,
      "outputs": [
        {
          "output_type": "execute_result",
          "data": {
            "text/plain": [
              "   attribute_0          id     price  bedrooms  bathrooms  sqm_living  \\\n",
              "0            1  6414100192  0.294951         3       2.25    0.729038   \n",
              "1            3  2487200875  0.517995         4       3.00    0.084098   \n",
              "2            4  1954400510  0.191929         3       2.00   -0.282810   \n",
              "3            5  7237550310  1.880986         4       4.50    2.505113   \n",
              "4            6  1321400060 -1.125320         3       2.25   -0.233732   \n",
              "5            7  2008000270 -0.883955         3       1.50   -1.378948   \n",
              "6            8  2414600126 -1.347209         3       1.00   -0.145189   \n",
              "7            9  3793500160 -0.688481         3       2.50   -0.002464   \n",
              "8           10  1736800520  0.696187         3       2.50    1.504634   \n",
              "9           12   114101516 -0.767663         3       1.00   -0.666305   \n",
              "\n",
              "    sqm_lot  floors  waterfront  view  ...  sqm_above  sqm_basement  yr_built  \\\n",
              "0 -0.105476     2.0           0     0  ...   0.492738      0.258701      1951   \n",
              "1 -0.519883     1.0           0     0  ...  -0.908790      1.429587      1965   \n",
              "2  0.017008     1.0           0     0  ...  -0.120431     -0.659640      1987   \n",
              "3  2.852617     1.0           0     0  ...   2.645084      2.853016      2001   \n",
              "4 -0.172800     2.0           0     0  ...  -0.076633     -0.659640      1995   \n",
              "5  0.222687     1.0           0     0  ...  -0.896276     -0.659640      1963   \n",
              "6 -0.070801     1.0           0     0  ...  -0.908790      1.016333      1960   \n",
              "7 -0.216116     2.0           0     0  ...   0.142356     -0.659640      2003   \n",
              "8  0.232436     1.0           0     0  ...   0.104815      3.243311      1965   \n",
              "9  1.025316     1.5           0     0  ...  -0.433272     -0.659640      1927   \n",
              "\n",
              "   yr_renovated  zipcode      lat     long  sqm_living15  sqm_lot15  age  \n",
              "0          1991    98125  47.7210 -122.319     -0.430344   0.839681   24  \n",
              "1             0    98136  47.5208 -122.393     -0.917386   0.066779   50  \n",
              "2             0    98074  47.6168 -122.045     -0.267997   0.790056   28  \n",
              "3             0    98053  47.6561 -122.005      4.100613  -1.968239   14  \n",
              "4             0    98003  47.3097 -122.327      0.378439   0.586596   20  \n",
              "5             0    98198  47.4095 -122.315     -0.489380   1.490175   52  \n",
              "6             0    98146  47.5123 -122.337     -0.297515   1.002201   55  \n",
              "7             0    98038  47.3684 -122.031      0.602773   0.814869   12  \n",
              "8             0    98007  47.6007 -122.145      0.337114   1.272655   50  \n",
              "9             0    98028  47.7558 -122.229     -0.297515  -1.490603   88  \n",
              "\n",
              "[10 rows x 22 columns]"
            ],
            "text/html": [
              "\n",
              "  <div id=\"df-f96906b4-00fd-4af0-a6c2-7e23fbf9677e\">\n",
              "    <div class=\"colab-df-container\">\n",
              "      <div>\n",
              "<style scoped>\n",
              "    .dataframe tbody tr th:only-of-type {\n",
              "        vertical-align: middle;\n",
              "    }\n",
              "\n",
              "    .dataframe tbody tr th {\n",
              "        vertical-align: top;\n",
              "    }\n",
              "\n",
              "    .dataframe thead th {\n",
              "        text-align: right;\n",
              "    }\n",
              "</style>\n",
              "<table border=\"1\" class=\"dataframe\">\n",
              "  <thead>\n",
              "    <tr style=\"text-align: right;\">\n",
              "      <th></th>\n",
              "      <th>attribute_0</th>\n",
              "      <th>id</th>\n",
              "      <th>price</th>\n",
              "      <th>bedrooms</th>\n",
              "      <th>bathrooms</th>\n",
              "      <th>sqm_living</th>\n",
              "      <th>sqm_lot</th>\n",
              "      <th>floors</th>\n",
              "      <th>waterfront</th>\n",
              "      <th>view</th>\n",
              "      <th>...</th>\n",
              "      <th>sqm_above</th>\n",
              "      <th>sqm_basement</th>\n",
              "      <th>yr_built</th>\n",
              "      <th>yr_renovated</th>\n",
              "      <th>zipcode</th>\n",
              "      <th>lat</th>\n",
              "      <th>long</th>\n",
              "      <th>sqm_living15</th>\n",
              "      <th>sqm_lot15</th>\n",
              "      <th>age</th>\n",
              "    </tr>\n",
              "  </thead>\n",
              "  <tbody>\n",
              "    <tr>\n",
              "      <th>0</th>\n",
              "      <td>1</td>\n",
              "      <td>6414100192</td>\n",
              "      <td>0.294951</td>\n",
              "      <td>3</td>\n",
              "      <td>2.25</td>\n",
              "      <td>0.729038</td>\n",
              "      <td>-0.105476</td>\n",
              "      <td>2.0</td>\n",
              "      <td>0</td>\n",
              "      <td>0</td>\n",
              "      <td>...</td>\n",
              "      <td>0.492738</td>\n",
              "      <td>0.258701</td>\n",
              "      <td>1951</td>\n",
              "      <td>1991</td>\n",
              "      <td>98125</td>\n",
              "      <td>47.7210</td>\n",
              "      <td>-122.319</td>\n",
              "      <td>-0.430344</td>\n",
              "      <td>0.839681</td>\n",
              "      <td>24</td>\n",
              "    </tr>\n",
              "    <tr>\n",
              "      <th>1</th>\n",
              "      <td>3</td>\n",
              "      <td>2487200875</td>\n",
              "      <td>0.517995</td>\n",
              "      <td>4</td>\n",
              "      <td>3.00</td>\n",
              "      <td>0.084098</td>\n",
              "      <td>-0.519883</td>\n",
              "      <td>1.0</td>\n",
              "      <td>0</td>\n",
              "      <td>0</td>\n",
              "      <td>...</td>\n",
              "      <td>-0.908790</td>\n",
              "      <td>1.429587</td>\n",
              "      <td>1965</td>\n",
              "      <td>0</td>\n",
              "      <td>98136</td>\n",
              "      <td>47.5208</td>\n",
              "      <td>-122.393</td>\n",
              "      <td>-0.917386</td>\n",
              "      <td>0.066779</td>\n",
              "      <td>50</td>\n",
              "    </tr>\n",
              "    <tr>\n",
              "      <th>2</th>\n",
              "      <td>4</td>\n",
              "      <td>1954400510</td>\n",
              "      <td>0.191929</td>\n",
              "      <td>3</td>\n",
              "      <td>2.00</td>\n",
              "      <td>-0.282810</td>\n",
              "      <td>0.017008</td>\n",
              "      <td>1.0</td>\n",
              "      <td>0</td>\n",
              "      <td>0</td>\n",
              "      <td>...</td>\n",
              "      <td>-0.120431</td>\n",
              "      <td>-0.659640</td>\n",
              "      <td>1987</td>\n",
              "      <td>0</td>\n",
              "      <td>98074</td>\n",
              "      <td>47.6168</td>\n",
              "      <td>-122.045</td>\n",
              "      <td>-0.267997</td>\n",
              "      <td>0.790056</td>\n",
              "      <td>28</td>\n",
              "    </tr>\n",
              "    <tr>\n",
              "      <th>3</th>\n",
              "      <td>5</td>\n",
              "      <td>7237550310</td>\n",
              "      <td>1.880986</td>\n",
              "      <td>4</td>\n",
              "      <td>4.50</td>\n",
              "      <td>2.505113</td>\n",
              "      <td>2.852617</td>\n",
              "      <td>1.0</td>\n",
              "      <td>0</td>\n",
              "      <td>0</td>\n",
              "      <td>...</td>\n",
              "      <td>2.645084</td>\n",
              "      <td>2.853016</td>\n",
              "      <td>2001</td>\n",
              "      <td>0</td>\n",
              "      <td>98053</td>\n",
              "      <td>47.6561</td>\n",
              "      <td>-122.005</td>\n",
              "      <td>4.100613</td>\n",
              "      <td>-1.968239</td>\n",
              "      <td>14</td>\n",
              "    </tr>\n",
              "    <tr>\n",
              "      <th>4</th>\n",
              "      <td>6</td>\n",
              "      <td>1321400060</td>\n",
              "      <td>-1.125320</td>\n",
              "      <td>3</td>\n",
              "      <td>2.25</td>\n",
              "      <td>-0.233732</td>\n",
              "      <td>-0.172800</td>\n",
              "      <td>2.0</td>\n",
              "      <td>0</td>\n",
              "      <td>0</td>\n",
              "      <td>...</td>\n",
              "      <td>-0.076633</td>\n",
              "      <td>-0.659640</td>\n",
              "      <td>1995</td>\n",
              "      <td>0</td>\n",
              "      <td>98003</td>\n",
              "      <td>47.3097</td>\n",
              "      <td>-122.327</td>\n",
              "      <td>0.378439</td>\n",
              "      <td>0.586596</td>\n",
              "      <td>20</td>\n",
              "    </tr>\n",
              "    <tr>\n",
              "      <th>5</th>\n",
              "      <td>7</td>\n",
              "      <td>2008000270</td>\n",
              "      <td>-0.883955</td>\n",
              "      <td>3</td>\n",
              "      <td>1.50</td>\n",
              "      <td>-1.378948</td>\n",
              "      <td>0.222687</td>\n",
              "      <td>1.0</td>\n",
              "      <td>0</td>\n",
              "      <td>0</td>\n",
              "      <td>...</td>\n",
              "      <td>-0.896276</td>\n",
              "      <td>-0.659640</td>\n",
              "      <td>1963</td>\n",
              "      <td>0</td>\n",
              "      <td>98198</td>\n",
              "      <td>47.4095</td>\n",
              "      <td>-122.315</td>\n",
              "      <td>-0.489380</td>\n",
              "      <td>1.490175</td>\n",
              "      <td>52</td>\n",
              "    </tr>\n",
              "    <tr>\n",
              "      <th>6</th>\n",
              "      <td>8</td>\n",
              "      <td>2414600126</td>\n",
              "      <td>-1.347209</td>\n",
              "      <td>3</td>\n",
              "      <td>1.00</td>\n",
              "      <td>-0.145189</td>\n",
              "      <td>-0.070801</td>\n",
              "      <td>1.0</td>\n",
              "      <td>0</td>\n",
              "      <td>0</td>\n",
              "      <td>...</td>\n",
              "      <td>-0.908790</td>\n",
              "      <td>1.016333</td>\n",
              "      <td>1960</td>\n",
              "      <td>0</td>\n",
              "      <td>98146</td>\n",
              "      <td>47.5123</td>\n",
              "      <td>-122.337</td>\n",
              "      <td>-0.297515</td>\n",
              "      <td>1.002201</td>\n",
              "      <td>55</td>\n",
              "    </tr>\n",
              "    <tr>\n",
              "      <th>7</th>\n",
              "      <td>9</td>\n",
              "      <td>3793500160</td>\n",
              "      <td>-0.688481</td>\n",
              "      <td>3</td>\n",
              "      <td>2.50</td>\n",
              "      <td>-0.002464</td>\n",
              "      <td>-0.216116</td>\n",
              "      <td>2.0</td>\n",
              "      <td>0</td>\n",
              "      <td>0</td>\n",
              "      <td>...</td>\n",
              "      <td>0.142356</td>\n",
              "      <td>-0.659640</td>\n",
              "      <td>2003</td>\n",
              "      <td>0</td>\n",
              "      <td>98038</td>\n",
              "      <td>47.3684</td>\n",
              "      <td>-122.031</td>\n",
              "      <td>0.602773</td>\n",
              "      <td>0.814869</td>\n",
              "      <td>12</td>\n",
              "    </tr>\n",
              "    <tr>\n",
              "      <th>8</th>\n",
              "      <td>10</td>\n",
              "      <td>1736800520</td>\n",
              "      <td>0.696187</td>\n",
              "      <td>3</td>\n",
              "      <td>2.50</td>\n",
              "      <td>1.504634</td>\n",
              "      <td>0.232436</td>\n",
              "      <td>1.0</td>\n",
              "      <td>0</td>\n",
              "      <td>0</td>\n",
              "      <td>...</td>\n",
              "      <td>0.104815</td>\n",
              "      <td>3.243311</td>\n",
              "      <td>1965</td>\n",
              "      <td>0</td>\n",
              "      <td>98007</td>\n",
              "      <td>47.6007</td>\n",
              "      <td>-122.145</td>\n",
              "      <td>0.337114</td>\n",
              "      <td>1.272655</td>\n",
              "      <td>50</td>\n",
              "    </tr>\n",
              "    <tr>\n",
              "      <th>9</th>\n",
              "      <td>12</td>\n",
              "      <td>114101516</td>\n",
              "      <td>-0.767663</td>\n",
              "      <td>3</td>\n",
              "      <td>1.00</td>\n",
              "      <td>-0.666305</td>\n",
              "      <td>1.025316</td>\n",
              "      <td>1.5</td>\n",
              "      <td>0</td>\n",
              "      <td>0</td>\n",
              "      <td>...</td>\n",
              "      <td>-0.433272</td>\n",
              "      <td>-0.659640</td>\n",
              "      <td>1927</td>\n",
              "      <td>0</td>\n",
              "      <td>98028</td>\n",
              "      <td>47.7558</td>\n",
              "      <td>-122.229</td>\n",
              "      <td>-0.297515</td>\n",
              "      <td>-1.490603</td>\n",
              "      <td>88</td>\n",
              "    </tr>\n",
              "  </tbody>\n",
              "</table>\n",
              "<p>10 rows × 22 columns</p>\n",
              "</div>\n",
              "      <button class=\"colab-df-convert\" onclick=\"convertToInteractive('df-f96906b4-00fd-4af0-a6c2-7e23fbf9677e')\"\n",
              "              title=\"Convert this dataframe to an interactive table.\"\n",
              "              style=\"display:none;\">\n",
              "        \n",
              "  <svg xmlns=\"http://www.w3.org/2000/svg\" height=\"24px\"viewBox=\"0 0 24 24\"\n",
              "       width=\"24px\">\n",
              "    <path d=\"M0 0h24v24H0V0z\" fill=\"none\"/>\n",
              "    <path d=\"M18.56 5.44l.94 2.06.94-2.06 2.06-.94-2.06-.94-.94-2.06-.94 2.06-2.06.94zm-11 1L8.5 8.5l.94-2.06 2.06-.94-2.06-.94L8.5 2.5l-.94 2.06-2.06.94zm10 10l.94 2.06.94-2.06 2.06-.94-2.06-.94-.94-2.06-.94 2.06-2.06.94z\"/><path d=\"M17.41 7.96l-1.37-1.37c-.4-.4-.92-.59-1.43-.59-.52 0-1.04.2-1.43.59L10.3 9.45l-7.72 7.72c-.78.78-.78 2.05 0 2.83L4 21.41c.39.39.9.59 1.41.59.51 0 1.02-.2 1.41-.59l7.78-7.78 2.81-2.81c.8-.78.8-2.07 0-2.86zM5.41 20L4 18.59l7.72-7.72 1.47 1.35L5.41 20z\"/>\n",
              "  </svg>\n",
              "      </button>\n",
              "      \n",
              "  <style>\n",
              "    .colab-df-container {\n",
              "      display:flex;\n",
              "      flex-wrap:wrap;\n",
              "      gap: 12px;\n",
              "    }\n",
              "\n",
              "    .colab-df-convert {\n",
              "      background-color: #E8F0FE;\n",
              "      border: none;\n",
              "      border-radius: 50%;\n",
              "      cursor: pointer;\n",
              "      display: none;\n",
              "      fill: #1967D2;\n",
              "      height: 32px;\n",
              "      padding: 0 0 0 0;\n",
              "      width: 32px;\n",
              "    }\n",
              "\n",
              "    .colab-df-convert:hover {\n",
              "      background-color: #E2EBFA;\n",
              "      box-shadow: 0px 1px 2px rgba(60, 64, 67, 0.3), 0px 1px 3px 1px rgba(60, 64, 67, 0.15);\n",
              "      fill: #174EA6;\n",
              "    }\n",
              "\n",
              "    [theme=dark] .colab-df-convert {\n",
              "      background-color: #3B4455;\n",
              "      fill: #D2E3FC;\n",
              "    }\n",
              "\n",
              "    [theme=dark] .colab-df-convert:hover {\n",
              "      background-color: #434B5C;\n",
              "      box-shadow: 0px 1px 3px 1px rgba(0, 0, 0, 0.15);\n",
              "      filter: drop-shadow(0px 1px 2px rgba(0, 0, 0, 0.3));\n",
              "      fill: #FFFFFF;\n",
              "    }\n",
              "  </style>\n",
              "\n",
              "      <script>\n",
              "        const buttonEl =\n",
              "          document.querySelector('#df-f96906b4-00fd-4af0-a6c2-7e23fbf9677e button.colab-df-convert');\n",
              "        buttonEl.style.display =\n",
              "          google.colab.kernel.accessAllowed ? 'block' : 'none';\n",
              "\n",
              "        async function convertToInteractive(key) {\n",
              "          const element = document.querySelector('#df-f96906b4-00fd-4af0-a6c2-7e23fbf9677e');\n",
              "          const dataTable =\n",
              "            await google.colab.kernel.invokeFunction('convertToInteractive',\n",
              "                                                     [key], {});\n",
              "          if (!dataTable) return;\n",
              "\n",
              "          const docLinkHtml = 'Like what you see? Visit the ' +\n",
              "            '<a target=\"_blank\" href=https://colab.research.google.com/notebooks/data_table.ipynb>data table notebook</a>'\n",
              "            + ' to learn more about interactive tables.';\n",
              "          element.innerHTML = '';\n",
              "          dataTable['output_type'] = 'display_data';\n",
              "          await google.colab.output.renderOutput(dataTable, element);\n",
              "          const docLink = document.createElement('div');\n",
              "          docLink.innerHTML = docLinkHtml;\n",
              "          element.appendChild(docLink);\n",
              "        }\n",
              "      </script>\n",
              "    </div>\n",
              "  </div>\n",
              "  "
            ]
          },
          "metadata": {},
          "execution_count": 265
        }
      ]
    },
    {
      "cell_type": "markdown",
      "source": [
        "# Modelling"
      ],
      "metadata": {
        "id": "mmoe2qCo8IaL"
      }
    },
    {
      "cell_type": "code",
      "source": [
        "from sklearn.model_selection import cross_val_score, RepeatedKFold\n",
        "\n",
        "# we define the cross-validation method to evaluate our models\n",
        "\n",
        "CV = RepeatedKFold(n_splits=10, n_repeats=1, random_state=12345)"
      ],
      "metadata": {
        "id": "Gv6F_VCYqDoO"
      },
      "execution_count": 266,
      "outputs": []
    },
    {
      "cell_type": "markdown",
      "source": [
        "## **Regression**\n"
      ],
      "metadata": {
        "id": "4smTUhkDQYzl"
      }
    },
    {
      "cell_type": "code",
      "source": [
        "from patsy import dmatrices\n",
        "from statsmodels.stats.outliers_influence import variance_inflation_factor\n",
        "\n",
        "# We separate the dataset into X and Y, however we do so in two different ways since the VIF computation must include the intercept.\n",
        "\n",
        "X_tr_reg = Houses_tr.loc[:,~Houses_tr.columns.isin(['attribute_0', 'id','price'])]\n",
        "y_tr_reg = Houses_tr[['price']]\n",
        "X_te_reg = Houses_te.loc[:,~Houses_te.columns.isin(['attribute_0', 'id','price'])]\n",
        "y_te_reg = Houses_te[['price']]\n",
        "\n",
        "y_vif, X_vif = dmatrices('price ~ bedrooms + bathrooms + sqm_living + sqm_lot + floors + waterfront + \\\n",
        "                view + condition + grade + sqm_above + sqm_basement + yr_built + yr_renovated + zipcode + \\\n",
        "                long + lat + sqm_living15 + sqm_lot15 + age', data=Houses_tr, return_type='dataframe')\n",
        "\n",
        "\n",
        "# Calculate VIF for each variable\n",
        "vif = pd.DataFrame()\n",
        "vif['VIF'] = [variance_inflation_factor(X_vif.values, i) for i in range(X_vif.shape[1])]\n",
        "vif['variable'] = X_vif.columns\n",
        "vif"
      ],
      "metadata": {
        "colab": {
          "base_uri": "https://localhost:8080/",
          "height": 677
        },
        "id": "CtR0fahsPXds",
        "outputId": "a9c6dd0b-e868-4600-d053-9442450096a2"
      },
      "execution_count": 267,
      "outputs": [
        {
          "output_type": "execute_result",
          "data": {
            "text/plain": [
              "             VIF      variable\n",
              "0   4.859342e+06     Intercept\n",
              "1   1.844370e+00      bedrooms\n",
              "2   3.322566e+00     bathrooms\n",
              "3   1.577772e+01    sqm_living\n",
              "4   1.781355e+00       sqm_lot\n",
              "5   2.433458e+00        floors\n",
              "6   1.204161e+00    waterfront\n",
              "7   1.436912e+00          view\n",
              "8   1.262750e+00     condition\n",
              "9   3.365912e+00         grade\n",
              "10  1.383516e+01     sqm_above\n",
              "11  5.122359e+00  sqm_basement\n",
              "12  3.758906e+01      yr_built\n",
              "13  6.870667e+00  yr_renovated\n",
              "14  1.669736e+00       zipcode\n",
              "15  1.872089e+00          long\n",
              "16  1.203056e+00           lat\n",
              "17  3.023263e+00  sqm_living15\n",
              "18  1.075314e+00     sqm_lot15\n",
              "19  3.758844e+01           age"
            ],
            "text/html": [
              "\n",
              "  <div id=\"df-26cac556-09bc-4ff1-8e33-a2fb26b97ef5\">\n",
              "    <div class=\"colab-df-container\">\n",
              "      <div>\n",
              "<style scoped>\n",
              "    .dataframe tbody tr th:only-of-type {\n",
              "        vertical-align: middle;\n",
              "    }\n",
              "\n",
              "    .dataframe tbody tr th {\n",
              "        vertical-align: top;\n",
              "    }\n",
              "\n",
              "    .dataframe thead th {\n",
              "        text-align: right;\n",
              "    }\n",
              "</style>\n",
              "<table border=\"1\" class=\"dataframe\">\n",
              "  <thead>\n",
              "    <tr style=\"text-align: right;\">\n",
              "      <th></th>\n",
              "      <th>VIF</th>\n",
              "      <th>variable</th>\n",
              "    </tr>\n",
              "  </thead>\n",
              "  <tbody>\n",
              "    <tr>\n",
              "      <th>0</th>\n",
              "      <td>4.859342e+06</td>\n",
              "      <td>Intercept</td>\n",
              "    </tr>\n",
              "    <tr>\n",
              "      <th>1</th>\n",
              "      <td>1.844370e+00</td>\n",
              "      <td>bedrooms</td>\n",
              "    </tr>\n",
              "    <tr>\n",
              "      <th>2</th>\n",
              "      <td>3.322566e+00</td>\n",
              "      <td>bathrooms</td>\n",
              "    </tr>\n",
              "    <tr>\n",
              "      <th>3</th>\n",
              "      <td>1.577772e+01</td>\n",
              "      <td>sqm_living</td>\n",
              "    </tr>\n",
              "    <tr>\n",
              "      <th>4</th>\n",
              "      <td>1.781355e+00</td>\n",
              "      <td>sqm_lot</td>\n",
              "    </tr>\n",
              "    <tr>\n",
              "      <th>5</th>\n",
              "      <td>2.433458e+00</td>\n",
              "      <td>floors</td>\n",
              "    </tr>\n",
              "    <tr>\n",
              "      <th>6</th>\n",
              "      <td>1.204161e+00</td>\n",
              "      <td>waterfront</td>\n",
              "    </tr>\n",
              "    <tr>\n",
              "      <th>7</th>\n",
              "      <td>1.436912e+00</td>\n",
              "      <td>view</td>\n",
              "    </tr>\n",
              "    <tr>\n",
              "      <th>8</th>\n",
              "      <td>1.262750e+00</td>\n",
              "      <td>condition</td>\n",
              "    </tr>\n",
              "    <tr>\n",
              "      <th>9</th>\n",
              "      <td>3.365912e+00</td>\n",
              "      <td>grade</td>\n",
              "    </tr>\n",
              "    <tr>\n",
              "      <th>10</th>\n",
              "      <td>1.383516e+01</td>\n",
              "      <td>sqm_above</td>\n",
              "    </tr>\n",
              "    <tr>\n",
              "      <th>11</th>\n",
              "      <td>5.122359e+00</td>\n",
              "      <td>sqm_basement</td>\n",
              "    </tr>\n",
              "    <tr>\n",
              "      <th>12</th>\n",
              "      <td>3.758906e+01</td>\n",
              "      <td>yr_built</td>\n",
              "    </tr>\n",
              "    <tr>\n",
              "      <th>13</th>\n",
              "      <td>6.870667e+00</td>\n",
              "      <td>yr_renovated</td>\n",
              "    </tr>\n",
              "    <tr>\n",
              "      <th>14</th>\n",
              "      <td>1.669736e+00</td>\n",
              "      <td>zipcode</td>\n",
              "    </tr>\n",
              "    <tr>\n",
              "      <th>15</th>\n",
              "      <td>1.872089e+00</td>\n",
              "      <td>long</td>\n",
              "    </tr>\n",
              "    <tr>\n",
              "      <th>16</th>\n",
              "      <td>1.203056e+00</td>\n",
              "      <td>lat</td>\n",
              "    </tr>\n",
              "    <tr>\n",
              "      <th>17</th>\n",
              "      <td>3.023263e+00</td>\n",
              "      <td>sqm_living15</td>\n",
              "    </tr>\n",
              "    <tr>\n",
              "      <th>18</th>\n",
              "      <td>1.075314e+00</td>\n",
              "      <td>sqm_lot15</td>\n",
              "    </tr>\n",
              "    <tr>\n",
              "      <th>19</th>\n",
              "      <td>3.758844e+01</td>\n",
              "      <td>age</td>\n",
              "    </tr>\n",
              "  </tbody>\n",
              "</table>\n",
              "</div>\n",
              "      <button class=\"colab-df-convert\" onclick=\"convertToInteractive('df-26cac556-09bc-4ff1-8e33-a2fb26b97ef5')\"\n",
              "              title=\"Convert this dataframe to an interactive table.\"\n",
              "              style=\"display:none;\">\n",
              "        \n",
              "  <svg xmlns=\"http://www.w3.org/2000/svg\" height=\"24px\"viewBox=\"0 0 24 24\"\n",
              "       width=\"24px\">\n",
              "    <path d=\"M0 0h24v24H0V0z\" fill=\"none\"/>\n",
              "    <path d=\"M18.56 5.44l.94 2.06.94-2.06 2.06-.94-2.06-.94-.94-2.06-.94 2.06-2.06.94zm-11 1L8.5 8.5l.94-2.06 2.06-.94-2.06-.94L8.5 2.5l-.94 2.06-2.06.94zm10 10l.94 2.06.94-2.06 2.06-.94-2.06-.94-.94-2.06-.94 2.06-2.06.94z\"/><path d=\"M17.41 7.96l-1.37-1.37c-.4-.4-.92-.59-1.43-.59-.52 0-1.04.2-1.43.59L10.3 9.45l-7.72 7.72c-.78.78-.78 2.05 0 2.83L4 21.41c.39.39.9.59 1.41.59.51 0 1.02-.2 1.41-.59l7.78-7.78 2.81-2.81c.8-.78.8-2.07 0-2.86zM5.41 20L4 18.59l7.72-7.72 1.47 1.35L5.41 20z\"/>\n",
              "  </svg>\n",
              "      </button>\n",
              "      \n",
              "  <style>\n",
              "    .colab-df-container {\n",
              "      display:flex;\n",
              "      flex-wrap:wrap;\n",
              "      gap: 12px;\n",
              "    }\n",
              "\n",
              "    .colab-df-convert {\n",
              "      background-color: #E8F0FE;\n",
              "      border: none;\n",
              "      border-radius: 50%;\n",
              "      cursor: pointer;\n",
              "      display: none;\n",
              "      fill: #1967D2;\n",
              "      height: 32px;\n",
              "      padding: 0 0 0 0;\n",
              "      width: 32px;\n",
              "    }\n",
              "\n",
              "    .colab-df-convert:hover {\n",
              "      background-color: #E2EBFA;\n",
              "      box-shadow: 0px 1px 2px rgba(60, 64, 67, 0.3), 0px 1px 3px 1px rgba(60, 64, 67, 0.15);\n",
              "      fill: #174EA6;\n",
              "    }\n",
              "\n",
              "    [theme=dark] .colab-df-convert {\n",
              "      background-color: #3B4455;\n",
              "      fill: #D2E3FC;\n",
              "    }\n",
              "\n",
              "    [theme=dark] .colab-df-convert:hover {\n",
              "      background-color: #434B5C;\n",
              "      box-shadow: 0px 1px 3px 1px rgba(0, 0, 0, 0.15);\n",
              "      filter: drop-shadow(0px 1px 2px rgba(0, 0, 0, 0.3));\n",
              "      fill: #FFFFFF;\n",
              "    }\n",
              "  </style>\n",
              "\n",
              "      <script>\n",
              "        const buttonEl =\n",
              "          document.querySelector('#df-26cac556-09bc-4ff1-8e33-a2fb26b97ef5 button.colab-df-convert');\n",
              "        buttonEl.style.display =\n",
              "          google.colab.kernel.accessAllowed ? 'block' : 'none';\n",
              "\n",
              "        async function convertToInteractive(key) {\n",
              "          const element = document.querySelector('#df-26cac556-09bc-4ff1-8e33-a2fb26b97ef5');\n",
              "          const dataTable =\n",
              "            await google.colab.kernel.invokeFunction('convertToInteractive',\n",
              "                                                     [key], {});\n",
              "          if (!dataTable) return;\n",
              "\n",
              "          const docLinkHtml = 'Like what you see? Visit the ' +\n",
              "            '<a target=\"_blank\" href=https://colab.research.google.com/notebooks/data_table.ipynb>data table notebook</a>'\n",
              "            + ' to learn more about interactive tables.';\n",
              "          element.innerHTML = '';\n",
              "          dataTable['output_type'] = 'display_data';\n",
              "          await google.colab.output.renderOutput(dataTable, element);\n",
              "          const docLink = document.createElement('div');\n",
              "          docLink.innerHTML = docLinkHtml;\n",
              "          element.appendChild(docLink);\n",
              "        }\n",
              "      </script>\n",
              "    </div>\n",
              "  </div>\n",
              "  "
            ]
          },
          "metadata": {},
          "execution_count": 267
        }
      ]
    },
    {
      "cell_type": "markdown",
      "source": [
        "### 🟩 GLM"
      ],
      "metadata": {
        "id": "bWqONkL2QVQd"
      }
    },
    {
      "cell_type": "code",
      "source": [
        "import statsmodels.api as sm\n",
        "import statsmodels.formula.api as smf\n",
        "\n",
        "model = smf.glm(formula = \"price ~ bedrooms + bathrooms + sqm_living + sqm_lot + floors + waterfront + \\\n",
        "                view + condition + grade + sqm_above + sqm_basement + yr_built + yr_renovated + zipcode + \\\n",
        "                long + lat + sqm_living15 + sqm_lot15 + age\", data = Houses_tr, family = sm.families.Gaussian())\n",
        "\n",
        "model_glm = model.fit()\n",
        "\n",
        "# We now observe the different coefficients for each feature\n",
        "\n",
        "print(model_glm.summary())"
      ],
      "metadata": {
        "colab": {
          "base_uri": "https://localhost:8080/"
        },
        "id": "990vfReXvq7r",
        "outputId": "895d87a4-2cf2-4270-fb93-07e61031a7e3"
      },
      "execution_count": 304,
      "outputs": [
        {
          "output_type": "stream",
          "name": "stdout",
          "text": [
            "                 Generalized Linear Model Regression Results                  \n",
            "==============================================================================\n",
            "Dep. Variable:                  price   No. Observations:                16658\n",
            "Model:                            GLM   Df Residuals:                    16638\n",
            "Model Family:                Gaussian   Df Model:                           19\n",
            "Link Function:               identity   Scale:                         0.23123\n",
            "Method:                          IRLS   Log-Likelihood:                -11430.\n",
            "Date:                Sun, 12 Jun 2022   Deviance:                       3847.1\n",
            "Time:                        01:18:45   Pearson chi2:                 3.85e+03\n",
            "No. Iterations:                     3                                         \n",
            "Covariance Type:            nonrobust                                         \n",
            "================================================================================\n",
            "                   coef    std err          z      P>|z|      [0.025      0.975]\n",
            "--------------------------------------------------------------------------------\n",
            "Intercept      -24.9831      8.213     -3.042      0.002     -41.080      -8.886\n",
            "bedrooms        -0.0409      0.006     -7.271      0.000      -0.052      -0.030\n",
            "bathrooms        0.1136      0.009     12.516      0.000       0.096       0.131\n",
            "sqm_living       0.1988      0.015     13.436      0.000       0.170       0.228\n",
            "sqm_lot         -0.0408      0.005     -8.213      0.000      -0.051      -0.031\n",
            "floors           0.0966      0.011      8.955      0.000       0.075       0.118\n",
            "waterfront       0.7377      0.048     15.510      0.000       0.644       0.831\n",
            "view             0.1224      0.006     20.960      0.000       0.111       0.134\n",
            "condition        0.1169      0.006     18.248      0.000       0.104       0.129\n",
            "grade            0.2925      0.006     49.661      0.000       0.281       0.304\n",
            "sqm_above        0.0986      0.014      7.117      0.000       0.071       0.126\n",
            "sqm_basement     0.0464      0.008      5.502      0.000       0.030       0.063\n",
            "yr_built        -0.0066      0.001     -8.536      0.000      -0.008      -0.005\n",
            "yr_renovated   7.53e-05   2.41e-05      3.128      0.002    2.81e-05       0.000\n",
            "zipcode         -0.0012   9.02e-05    -13.616      0.000      -0.001      -0.001\n",
            "long            -0.2437      0.036     -6.754      0.000      -0.314      -0.173\n",
            "lat              2.6429      0.029     89.612      0.000       2.585       2.701\n",
            "sqm_living15     0.1254      0.006     19.353      0.000       0.113       0.138\n",
            "sqm_lot15       -0.0391      0.004    -10.127      0.000      -0.047      -0.032\n",
            "age              0.0003      0.001      0.418      0.676      -0.001       0.002\n",
            "================================================================================\n"
          ]
        }
      ]
    },
    {
      "cell_type": "code",
      "source": [
        "from sklearn.metrics import mean_squared_error, r2_score\n",
        "\n",
        "# We now obtain the training RMSE and R-squared for the training dataset\n",
        "\n",
        "y_tr_pred = model_glm.predict(X_tr_reg)\n",
        "\n",
        "rmse_tr = np.sqrt(mean_squared_error(y_tr_reg, y_tr_pred))\n",
        "r2_tr = r2_score(y_tr_reg, y_tr_pred)\n",
        "\n",
        "print(\"Training Scores\")\n",
        "print(\"RMSE: \", round(rmse_tr, 4))\n",
        "print(\"R-squared: \", round(r2_tr, 4))"
      ],
      "metadata": {
        "colab": {
          "base_uri": "https://localhost:8080/"
        },
        "id": "iASQi_b-ezzy",
        "outputId": "c8e8da92-9205-4794-fb25-f1bcaa1c10a5"
      },
      "execution_count": 305,
      "outputs": [
        {
          "output_type": "stream",
          "name": "stdout",
          "text": [
            "Training Scores\n",
            "RMSE:  0.4806\n",
            "R-squared:  0.7691\n"
          ]
        }
      ]
    },
    {
      "cell_type": "markdown",
      "source": [
        "### 🟩 LASSO"
      ],
      "metadata": {
        "id": "bRwUkbIIN1xk"
      }
    },
    {
      "cell_type": "code",
      "source": [
        "from sklearn.linear_model import LassoCV\n",
        "\n",
        "warnings.filterwarnings(\"ignore\") \n",
        "\n",
        "# We define our model and calculate its validation score\n",
        "model_lasso = LassoCV(alphas = np.arange(0, 10, 0.01), cv = CV, n_jobs = -1)\n",
        "r2_mean_lasso = np.mean(cross_val_score(model_lasso, X_tr_reg, y_tr_reg.values.ravel(), cv = CV))\n",
        "print(\"Validation score for Lasso:\", round(r2_mean_lasso, 4))"
      ],
      "metadata": {
        "id": "NB_r80gNwQ3t",
        "colab": {
          "base_uri": "https://localhost:8080/"
        },
        "outputId": "0e131621-49bd-43a8-caf3-ad22d8604fe2"
      },
      "execution_count": 270,
      "outputs": [
        {
          "output_type": "stream",
          "name": "stdout",
          "text": [
            "Validation score for Lasso: 0.7682\n"
          ]
        }
      ]
    },
    {
      "cell_type": "code",
      "source": [
        "# We fit and obtain the parameters for the best LASSO model\n",
        "\n",
        "model_lasso.fit(X_tr_reg, y_tr_reg)\n",
        "\n",
        "# These are the assigned coefficients for each feature and the alpha used in the model\n",
        "\n",
        "print(model_lasso.coef_)\n",
        "print(\"Lambda of Lasso Model:\", model_lasso.alpha_)"
      ],
      "metadata": {
        "id": "0Lw63mACGZiT",
        "colab": {
          "base_uri": "https://localhost:8080/"
        },
        "outputId": "ddaa7a56-06ed-49aa-e1e8-1e69c112d270"
      },
      "execution_count": 271,
      "outputs": [
        {
          "output_type": "stream",
          "name": "stdout",
          "text": [
            "[-4.09093546e-02  1.13583997e-01  1.98831646e-01 -4.08380986e-02\n",
            "  9.66036837e-02  7.37686971e-01  1.22426679e-01  1.16891706e-01\n",
            "  2.92453418e-01  9.86284210e-02  4.63920296e-02 -6.58535942e-03\n",
            "  7.52991657e-05 -1.22809727e-03  2.64287886e+00 -2.43685936e-01\n",
            "  1.25370179e-01 -3.91259139e-02  3.29141740e-04]\n",
            "Lambda of Lasso Model: 0.0\n"
          ]
        }
      ]
    },
    {
      "cell_type": "markdown",
      "source": [
        "### 🟩 Ridge\n",
        "\n"
      ],
      "metadata": {
        "id": "PVJwr2VDN7Mi"
      }
    },
    {
      "cell_type": "code",
      "source": [
        "from sklearn.linear_model import RidgeCV\n",
        "\n",
        "# We define our model and calculate its validation score\n",
        "\n",
        "model_ridge = RidgeCV(alphas = np.arange(0, 10, 0.1), cv = CV)\n",
        "r2_mean_ridge = np.mean(cross_val_score(model_ridge, X_tr_reg, y_tr_reg.values.ravel(), cv = CV))\n",
        "\n",
        "print(\"Validation score for Ridge:\", round(r2_mean_ridge, 4))"
      ],
      "metadata": {
        "id": "O3QkpD5fSZ_q",
        "colab": {
          "base_uri": "https://localhost:8080/"
        },
        "outputId": "0a7843db-2c24-42de-cf20-c33db8b6fb07"
      },
      "execution_count": 272,
      "outputs": [
        {
          "output_type": "stream",
          "name": "stdout",
          "text": [
            "Validation score for Ridge: 0.7682\n"
          ]
        }
      ]
    },
    {
      "cell_type": "code",
      "source": [
        "# We fit and obtain the parameters for the best ridge model\n",
        "\n",
        "model_ridge.fit(X_tr_reg, y_tr_reg)\n",
        "\n",
        "# These are the assigned coefficients for each feature and the alpha used in the model\n",
        "\n",
        "print(model_ridge.coef_)\n",
        "print(\"Lambda of Ridge Model:\", model_ridge.alpha_)"
      ],
      "metadata": {
        "id": "opjlWgzgd0V5",
        "colab": {
          "base_uri": "https://localhost:8080/"
        },
        "outputId": "5c735cef-49bc-42c9-913b-19d2d210d6f4"
      },
      "execution_count": 273,
      "outputs": [
        {
          "output_type": "stream",
          "name": "stdout",
          "text": [
            "[[-4.09219900e-02  1.13597541e-01  1.98810476e-01 -4.08825928e-02\n",
            "   9.66229768e-02  7.36233014e-01  1.22457417e-01  1.16867165e-01\n",
            "   2.92514212e-01  9.86233320e-02  4.64222916e-02 -6.58503063e-03\n",
            "   7.53743929e-05 -1.22651890e-03  2.64087136e+00 -2.43238429e-01\n",
            "   1.25387778e-01 -3.91432475e-02  3.32216953e-04]]\n",
            "Lambda of Ridge Model: 0.2\n"
          ]
        }
      ]
    },
    {
      "cell_type": "markdown",
      "source": [
        "### 🟩 Polynomial Regression"
      ],
      "metadata": {
        "id": "Jkd4quCvDUzQ"
      }
    },
    {
      "cell_type": "code",
      "source": [
        "from sklearn.linear_model import LinearRegression\n",
        "from sklearn.preprocessing import PolynomialFeatures\n",
        "\n",
        "# We create separate models with different degree values to compare them between one another\n",
        "\n",
        "poly_features_2 = PolynomialFeatures(degree = 2, include_bias = False)\n",
        "X_tr_poly_2 = poly_features_2.fit_transform(X_tr_reg)\n",
        "\n",
        "poly_features_3 = PolynomialFeatures(degree = 3, include_bias = False)\n",
        "X_tr_poly_3 = poly_features_3.fit_transform(X_tr_reg)\n",
        "\n",
        "# We obtain the validation score and fit the models to our data\n",
        "\n",
        "model_poly_2 = LinearRegression()\n",
        "r2_mean_poly_2 = np.mean(cross_val_score(model_poly_2, X_tr_poly_2, y_tr_reg.values.ravel(), cv = CV))\n",
        "model_poly_2.fit(X_tr_poly_2, y_tr_reg)\n",
        "\n",
        "model_poly_3 = LinearRegression()\n",
        "r2_mean_poly_3 = np.mean(cross_val_score(model_poly_3, X_tr_poly_3, y_tr_reg.values.ravel(), cv = CV))\n",
        "model_poly_3.fit(X_tr_poly_3, y_tr_reg)"
      ],
      "metadata": {
        "id": "TafYGOgxQ3sv",
        "colab": {
          "base_uri": "https://localhost:8080/"
        },
        "outputId": "29b215c0-45f2-40e4-cb87-98eae215aa39"
      },
      "execution_count": 274,
      "outputs": [
        {
          "output_type": "execute_result",
          "data": {
            "text/plain": [
              "LinearRegression()"
            ]
          },
          "metadata": {},
          "execution_count": 274
        }
      ]
    },
    {
      "cell_type": "code",
      "source": [
        "print(\"Validation score for Polynomial regression with degree 2:\", round(r2_mean_poly_2, 4))\n",
        "print(\"Validation score for Polynomial regression with degree 3:\", round(r2_mean_poly_3, 4))"
      ],
      "metadata": {
        "id": "MCZHtjHji9qO",
        "colab": {
          "base_uri": "https://localhost:8080/"
        },
        "outputId": "e5598b81-777e-4bbb-ea68-95a7bd121d15"
      },
      "execution_count": 275,
      "outputs": [
        {
          "output_type": "stream",
          "name": "stdout",
          "text": [
            "Validation score for Polynomial regression with degree 2: 0.825\n",
            "Validation score for Polynomial regression with degree 3: 0.0308\n"
          ]
        }
      ]
    },
    {
      "cell_type": "markdown",
      "source": [
        "### 🟩 Gradient Boosting Regressor"
      ],
      "metadata": {
        "id": "gxewe48PGxzJ"
      }
    },
    {
      "cell_type": "code",
      "source": [
        "from sklearn.ensemble import HistGradientBoostingRegressor\n",
        "\n",
        "# These are the parameters we will evaluate\n",
        "\n",
        "lr_list_gb = [0.05, 0.1, 0.3]\n",
        "depth_gb = [5, 7, 10]\n",
        "maximum_bins = [200, 255]\n",
        "\n",
        "scores_gb_reg = []\n",
        "\n",
        "for l_rate in lr_list_gb:\n",
        "  for total_depth in depth_gb:\n",
        "    for m_bins in maximum_bins:\n",
        "      regr_GBR = cross_val_score(HistGradientBoostingRegressor(learning_rate = l_rate, max_bins = m_bins,\n",
        "                                 max_depth = total_depth, random_state = 12345), X_tr_reg, y_tr_reg.values.ravel(), cv = CV)\n",
        "      scores_gb_reg.append({'lr_list': l_rate, 'depth_gb': total_depth, 'm_bins': m_bins,  'score': np.mean(regr_GBR)})"
      ],
      "metadata": {
        "id": "4sISh6YCJQRe"
      },
      "execution_count": 276,
      "outputs": []
    },
    {
      "cell_type": "code",
      "source": [
        "best_gb_reg = -np.inf\n",
        "settings_gb_reg, total_mean_gb_reg = [], []\n",
        "mean_tr_acc_gb_reg = None\n",
        "\n",
        "# We keep the settings corresponding to the best combination evaluated\n",
        "\n",
        "for i in scores_gb_reg:\n",
        "  total_mean_gb_reg.append(i['score'])\n",
        "  if i['score'] > best_gb_reg:\n",
        "    best_gb_reg = i['score']\n",
        "    settings_gb_reg = ['lr_list: ', i['lr_list'], 'depth_gb: ', i['depth_gb'], 'm_bins: ', i['m_bins'],\n",
        "                       'score:', i['score']]\n",
        "  \n",
        "print(\"Best settings configuration: \", settings_gb_reg[:-2])\n",
        "print(\"Best validation score: \", round(best_gb_reg, 4))\n",
        "print(\"General Score mean Gradient Boosting Regressor: \", round(np.mean(total_mean_gb_reg), 4))"
      ],
      "metadata": {
        "id": "lfeXhgGseVTY",
        "colab": {
          "base_uri": "https://localhost:8080/"
        },
        "outputId": "fa5eb9ae-c6a1-43fe-a343-877c50bf3e70"
      },
      "execution_count": 277,
      "outputs": [
        {
          "output_type": "stream",
          "name": "stdout",
          "text": [
            "Best settings configuration:  ['lr_list: ', 0.1, 'depth_gb: ', 10, 'm_bins: ', 255]\n",
            "Best validation score:  0.8976\n",
            "General Score mean Gradient Boosting Regressor:  0.8919\n"
          ]
        }
      ]
    },
    {
      "cell_type": "markdown",
      "source": [
        "## **Classification**"
      ],
      "metadata": {
        "id": "fTWogmN3NmQ2"
      }
    },
    {
      "cell_type": "code",
      "source": [
        "# We classify the houses into cheap and expensive.\n",
        "from copy import copy\n",
        "\n",
        "Houses_tr_classif = copy(Houses_tr)\n",
        "Houses_te_classif = copy(Houses_te)\n",
        "\n",
        "median_prices_tr = np.median(Houses_tr['price'])\n",
        "\n",
        "Houses_tr_classif['price'] = [0 if x < median_prices_tr else 1 for x in Houses_tr_classif['price']]\n",
        "Houses_te_classif['price'] = [0 if x < median_prices_tr else 1 for x in Houses_te_classif['price']]"
      ],
      "metadata": {
        "id": "Gj3rjEtnOHXl"
      },
      "execution_count": 278,
      "outputs": []
    },
    {
      "cell_type": "markdown",
      "source": [
        "Notice that the threshold has been made according to training values for both sets, considering cheap (0) houses those having a price lower than the median value, and expensive (1) the remaining. "
      ],
      "metadata": {
        "id": "hINGUVSujYtS"
      }
    },
    {
      "cell_type": "code",
      "source": [
        "Houses_tr_classif.head(20) # Cheking"
      ],
      "metadata": {
        "id": "GPLcYj0BPmAZ",
        "colab": {
          "base_uri": "https://localhost:8080/",
          "height": 706
        },
        "outputId": "7a6c7eb2-2cb7-490b-b55f-6473f6d84864"
      },
      "execution_count": 279,
      "outputs": [
        {
          "output_type": "execute_result",
          "data": {
            "text/plain": [
              "    attribute_0          id  price  bedrooms  bathrooms  sqm_living   sqm_lot  \\\n",
              "0             1  6414100192      1         3       2.25    0.729038 -0.105476   \n",
              "1             3  2487200875      1         4       3.00    0.084098 -0.519883   \n",
              "2             4  1954400510      1         3       2.00   -0.282810  0.017008   \n",
              "3             5  7237550310      1         4       4.50    2.505113  2.852617   \n",
              "4             6  1321400060      0         3       2.25   -0.233732 -0.172800   \n",
              "5             7  2008000270      0         3       1.50   -1.378948  0.222687   \n",
              "6             8  2414600126      0         3       1.00   -0.145189 -0.070801   \n",
              "7             9  3793500160      0         3       2.50   -0.002464 -0.216116   \n",
              "8            10  1736800520      1         3       2.50    1.504634  0.232436   \n",
              "9            12   114101516      0         3       1.00   -0.666305  1.025316   \n",
              "10           13  6054650070      0         3       1.75   -0.768329  0.219111   \n",
              "11           15  9297300055      1         4       3.00    1.057265 -0.519883   \n",
              "12           16  1875500060      0         3       2.00   -0.002464  0.635072   \n",
              "13           17  6865200140      1         4       1.00   -0.398940 -0.688598   \n",
              "14           19  7983200060      0         3       1.00   -0.986515  0.229921   \n",
              "15           20  6300500875      0         4       1.75   -0.369372 -0.524367   \n",
              "16           21  2524049179      1         3       2.75    1.136612  1.934687   \n",
              "17           23  8091400200      0         2       1.50   -1.356598  0.214827   \n",
              "18           25  1202000200      0         3       2.00   -0.240682 -0.589813   \n",
              "19           26  1794500383      1         3       1.75    0.615222 -1.212902   \n",
              "\n",
              "    floors  waterfront  view  ...  sqm_above  sqm_basement  yr_built  \\\n",
              "0      2.0           0     0  ...   0.492738      0.258701      1951   \n",
              "1      1.0           0     0  ...  -0.908790      1.429587      1965   \n",
              "2      1.0           0     0  ...  -0.120431     -0.659640      1987   \n",
              "3      1.0           0     0  ...   2.645084      2.853016      2001   \n",
              "4      2.0           0     0  ...  -0.076633     -0.659640      1995   \n",
              "5      1.0           0     0  ...  -0.896276     -0.659640      1963   \n",
              "6      1.0           0     0  ...  -0.908790      1.016333      1960   \n",
              "7      2.0           0     0  ...   0.142356     -0.659640      2003   \n",
              "8      1.0           0     0  ...   0.104815      3.243311      1965   \n",
              "9      1.5           0     0  ...  -0.433272     -0.659640      1927   \n",
              "10     1.0           0     0  ...  -0.508354     -0.659640      1977   \n",
              "11     2.0           0     3  ...   0.254978      1.567338      1979   \n",
              "12     2.0           0     0  ...   0.142356     -0.659640      1994   \n",
              "13     1.5           0     0  ...  -0.220540     -0.659640      1916   \n",
              "14     1.0           0     0  ...  -0.658517     -0.659640      1969   \n",
              "15     1.0           0     0  ...  -1.146549      1.085209      1947   \n",
              "16     1.0           0     4  ...   0.692956      0.993374      1968   \n",
              "17     1.0           0     0  ...  -0.883763     -0.659640      1985   \n",
              "18     1.5           0     0  ...  -0.082890     -0.659640      1941   \n",
              "19     2.0           0     0  ...  -0.032835      0.947457      1915   \n",
              "\n",
              "    yr_renovated  zipcode      lat     long  sqm_living15  sqm_lot15  age  \n",
              "0           1991    98125  47.7210 -122.319     -0.430344   0.839681   24  \n",
              "1              0    98136  47.5208 -122.393     -0.917386   0.066779   50  \n",
              "2              0    98074  47.6168 -122.045     -0.267997   0.790056   28  \n",
              "3              0    98053  47.6561 -122.005      4.100613  -1.968239   14  \n",
              "4              0    98003  47.3097 -122.327      0.378439   0.586596   20  \n",
              "5              0    98198  47.4095 -122.315     -0.489380   1.490175   52  \n",
              "6              0    98146  47.5123 -122.337     -0.297515   1.002201   55  \n",
              "7              0    98038  47.3684 -122.031      0.602773   0.814869   12  \n",
              "8              0    98007  47.6007 -122.145      0.337114   1.272655   50  \n",
              "9              0    98028  47.7558 -122.229     -0.297515  -1.490603   88  \n",
              "10             0    98074  47.6127 -122.045     -0.902627  -1.965344   38  \n",
              "11             0    98126  47.5714 -122.375      0.233802  -0.233035   36  \n",
              "12             0    98019  47.7277 -121.962     -0.135168  -1.326015   21  \n",
              "13             0    98103  47.6648 -122.343     -0.548415  -0.132959   99  \n",
              "14             0    98003  47.3343 -122.306     -1.035456   1.249497   46  \n",
              "15             0    98133  47.7025 -122.341     -0.858350   0.062230   68  \n",
              "16             0    98040  47.5316 -122.233      3.141290  -0.862439   47  \n",
              "17             0    98030  47.3533 -122.166     -1.124009   1.093179   30  \n",
              "18             0    98002  47.3048 -122.218     -1.404427  -0.010139   74  \n",
              "19             0    98119  47.6386 -122.360     -0.327033  -0.401759  100  \n",
              "\n",
              "[20 rows x 22 columns]"
            ],
            "text/html": [
              "\n",
              "  <div id=\"df-517e94e6-d36e-4dd7-bfeb-15089ae61b7f\">\n",
              "    <div class=\"colab-df-container\">\n",
              "      <div>\n",
              "<style scoped>\n",
              "    .dataframe tbody tr th:only-of-type {\n",
              "        vertical-align: middle;\n",
              "    }\n",
              "\n",
              "    .dataframe tbody tr th {\n",
              "        vertical-align: top;\n",
              "    }\n",
              "\n",
              "    .dataframe thead th {\n",
              "        text-align: right;\n",
              "    }\n",
              "</style>\n",
              "<table border=\"1\" class=\"dataframe\">\n",
              "  <thead>\n",
              "    <tr style=\"text-align: right;\">\n",
              "      <th></th>\n",
              "      <th>attribute_0</th>\n",
              "      <th>id</th>\n",
              "      <th>price</th>\n",
              "      <th>bedrooms</th>\n",
              "      <th>bathrooms</th>\n",
              "      <th>sqm_living</th>\n",
              "      <th>sqm_lot</th>\n",
              "      <th>floors</th>\n",
              "      <th>waterfront</th>\n",
              "      <th>view</th>\n",
              "      <th>...</th>\n",
              "      <th>sqm_above</th>\n",
              "      <th>sqm_basement</th>\n",
              "      <th>yr_built</th>\n",
              "      <th>yr_renovated</th>\n",
              "      <th>zipcode</th>\n",
              "      <th>lat</th>\n",
              "      <th>long</th>\n",
              "      <th>sqm_living15</th>\n",
              "      <th>sqm_lot15</th>\n",
              "      <th>age</th>\n",
              "    </tr>\n",
              "  </thead>\n",
              "  <tbody>\n",
              "    <tr>\n",
              "      <th>0</th>\n",
              "      <td>1</td>\n",
              "      <td>6414100192</td>\n",
              "      <td>1</td>\n",
              "      <td>3</td>\n",
              "      <td>2.25</td>\n",
              "      <td>0.729038</td>\n",
              "      <td>-0.105476</td>\n",
              "      <td>2.0</td>\n",
              "      <td>0</td>\n",
              "      <td>0</td>\n",
              "      <td>...</td>\n",
              "      <td>0.492738</td>\n",
              "      <td>0.258701</td>\n",
              "      <td>1951</td>\n",
              "      <td>1991</td>\n",
              "      <td>98125</td>\n",
              "      <td>47.7210</td>\n",
              "      <td>-122.319</td>\n",
              "      <td>-0.430344</td>\n",
              "      <td>0.839681</td>\n",
              "      <td>24</td>\n",
              "    </tr>\n",
              "    <tr>\n",
              "      <th>1</th>\n",
              "      <td>3</td>\n",
              "      <td>2487200875</td>\n",
              "      <td>1</td>\n",
              "      <td>4</td>\n",
              "      <td>3.00</td>\n",
              "      <td>0.084098</td>\n",
              "      <td>-0.519883</td>\n",
              "      <td>1.0</td>\n",
              "      <td>0</td>\n",
              "      <td>0</td>\n",
              "      <td>...</td>\n",
              "      <td>-0.908790</td>\n",
              "      <td>1.429587</td>\n",
              "      <td>1965</td>\n",
              "      <td>0</td>\n",
              "      <td>98136</td>\n",
              "      <td>47.5208</td>\n",
              "      <td>-122.393</td>\n",
              "      <td>-0.917386</td>\n",
              "      <td>0.066779</td>\n",
              "      <td>50</td>\n",
              "    </tr>\n",
              "    <tr>\n",
              "      <th>2</th>\n",
              "      <td>4</td>\n",
              "      <td>1954400510</td>\n",
              "      <td>1</td>\n",
              "      <td>3</td>\n",
              "      <td>2.00</td>\n",
              "      <td>-0.282810</td>\n",
              "      <td>0.017008</td>\n",
              "      <td>1.0</td>\n",
              "      <td>0</td>\n",
              "      <td>0</td>\n",
              "      <td>...</td>\n",
              "      <td>-0.120431</td>\n",
              "      <td>-0.659640</td>\n",
              "      <td>1987</td>\n",
              "      <td>0</td>\n",
              "      <td>98074</td>\n",
              "      <td>47.6168</td>\n",
              "      <td>-122.045</td>\n",
              "      <td>-0.267997</td>\n",
              "      <td>0.790056</td>\n",
              "      <td>28</td>\n",
              "    </tr>\n",
              "    <tr>\n",
              "      <th>3</th>\n",
              "      <td>5</td>\n",
              "      <td>7237550310</td>\n",
              "      <td>1</td>\n",
              "      <td>4</td>\n",
              "      <td>4.50</td>\n",
              "      <td>2.505113</td>\n",
              "      <td>2.852617</td>\n",
              "      <td>1.0</td>\n",
              "      <td>0</td>\n",
              "      <td>0</td>\n",
              "      <td>...</td>\n",
              "      <td>2.645084</td>\n",
              "      <td>2.853016</td>\n",
              "      <td>2001</td>\n",
              "      <td>0</td>\n",
              "      <td>98053</td>\n",
              "      <td>47.6561</td>\n",
              "      <td>-122.005</td>\n",
              "      <td>4.100613</td>\n",
              "      <td>-1.968239</td>\n",
              "      <td>14</td>\n",
              "    </tr>\n",
              "    <tr>\n",
              "      <th>4</th>\n",
              "      <td>6</td>\n",
              "      <td>1321400060</td>\n",
              "      <td>0</td>\n",
              "      <td>3</td>\n",
              "      <td>2.25</td>\n",
              "      <td>-0.233732</td>\n",
              "      <td>-0.172800</td>\n",
              "      <td>2.0</td>\n",
              "      <td>0</td>\n",
              "      <td>0</td>\n",
              "      <td>...</td>\n",
              "      <td>-0.076633</td>\n",
              "      <td>-0.659640</td>\n",
              "      <td>1995</td>\n",
              "      <td>0</td>\n",
              "      <td>98003</td>\n",
              "      <td>47.3097</td>\n",
              "      <td>-122.327</td>\n",
              "      <td>0.378439</td>\n",
              "      <td>0.586596</td>\n",
              "      <td>20</td>\n",
              "    </tr>\n",
              "    <tr>\n",
              "      <th>5</th>\n",
              "      <td>7</td>\n",
              "      <td>2008000270</td>\n",
              "      <td>0</td>\n",
              "      <td>3</td>\n",
              "      <td>1.50</td>\n",
              "      <td>-1.378948</td>\n",
              "      <td>0.222687</td>\n",
              "      <td>1.0</td>\n",
              "      <td>0</td>\n",
              "      <td>0</td>\n",
              "      <td>...</td>\n",
              "      <td>-0.896276</td>\n",
              "      <td>-0.659640</td>\n",
              "      <td>1963</td>\n",
              "      <td>0</td>\n",
              "      <td>98198</td>\n",
              "      <td>47.4095</td>\n",
              "      <td>-122.315</td>\n",
              "      <td>-0.489380</td>\n",
              "      <td>1.490175</td>\n",
              "      <td>52</td>\n",
              "    </tr>\n",
              "    <tr>\n",
              "      <th>6</th>\n",
              "      <td>8</td>\n",
              "      <td>2414600126</td>\n",
              "      <td>0</td>\n",
              "      <td>3</td>\n",
              "      <td>1.00</td>\n",
              "      <td>-0.145189</td>\n",
              "      <td>-0.070801</td>\n",
              "      <td>1.0</td>\n",
              "      <td>0</td>\n",
              "      <td>0</td>\n",
              "      <td>...</td>\n",
              "      <td>-0.908790</td>\n",
              "      <td>1.016333</td>\n",
              "      <td>1960</td>\n",
              "      <td>0</td>\n",
              "      <td>98146</td>\n",
              "      <td>47.5123</td>\n",
              "      <td>-122.337</td>\n",
              "      <td>-0.297515</td>\n",
              "      <td>1.002201</td>\n",
              "      <td>55</td>\n",
              "    </tr>\n",
              "    <tr>\n",
              "      <th>7</th>\n",
              "      <td>9</td>\n",
              "      <td>3793500160</td>\n",
              "      <td>0</td>\n",
              "      <td>3</td>\n",
              "      <td>2.50</td>\n",
              "      <td>-0.002464</td>\n",
              "      <td>-0.216116</td>\n",
              "      <td>2.0</td>\n",
              "      <td>0</td>\n",
              "      <td>0</td>\n",
              "      <td>...</td>\n",
              "      <td>0.142356</td>\n",
              "      <td>-0.659640</td>\n",
              "      <td>2003</td>\n",
              "      <td>0</td>\n",
              "      <td>98038</td>\n",
              "      <td>47.3684</td>\n",
              "      <td>-122.031</td>\n",
              "      <td>0.602773</td>\n",
              "      <td>0.814869</td>\n",
              "      <td>12</td>\n",
              "    </tr>\n",
              "    <tr>\n",
              "      <th>8</th>\n",
              "      <td>10</td>\n",
              "      <td>1736800520</td>\n",
              "      <td>1</td>\n",
              "      <td>3</td>\n",
              "      <td>2.50</td>\n",
              "      <td>1.504634</td>\n",
              "      <td>0.232436</td>\n",
              "      <td>1.0</td>\n",
              "      <td>0</td>\n",
              "      <td>0</td>\n",
              "      <td>...</td>\n",
              "      <td>0.104815</td>\n",
              "      <td>3.243311</td>\n",
              "      <td>1965</td>\n",
              "      <td>0</td>\n",
              "      <td>98007</td>\n",
              "      <td>47.6007</td>\n",
              "      <td>-122.145</td>\n",
              "      <td>0.337114</td>\n",
              "      <td>1.272655</td>\n",
              "      <td>50</td>\n",
              "    </tr>\n",
              "    <tr>\n",
              "      <th>9</th>\n",
              "      <td>12</td>\n",
              "      <td>114101516</td>\n",
              "      <td>0</td>\n",
              "      <td>3</td>\n",
              "      <td>1.00</td>\n",
              "      <td>-0.666305</td>\n",
              "      <td>1.025316</td>\n",
              "      <td>1.5</td>\n",
              "      <td>0</td>\n",
              "      <td>0</td>\n",
              "      <td>...</td>\n",
              "      <td>-0.433272</td>\n",
              "      <td>-0.659640</td>\n",
              "      <td>1927</td>\n",
              "      <td>0</td>\n",
              "      <td>98028</td>\n",
              "      <td>47.7558</td>\n",
              "      <td>-122.229</td>\n",
              "      <td>-0.297515</td>\n",
              "      <td>-1.490603</td>\n",
              "      <td>88</td>\n",
              "    </tr>\n",
              "    <tr>\n",
              "      <th>10</th>\n",
              "      <td>13</td>\n",
              "      <td>6054650070</td>\n",
              "      <td>0</td>\n",
              "      <td>3</td>\n",
              "      <td>1.75</td>\n",
              "      <td>-0.768329</td>\n",
              "      <td>0.219111</td>\n",
              "      <td>1.0</td>\n",
              "      <td>0</td>\n",
              "      <td>0</td>\n",
              "      <td>...</td>\n",
              "      <td>-0.508354</td>\n",
              "      <td>-0.659640</td>\n",
              "      <td>1977</td>\n",
              "      <td>0</td>\n",
              "      <td>98074</td>\n",
              "      <td>47.6127</td>\n",
              "      <td>-122.045</td>\n",
              "      <td>-0.902627</td>\n",
              "      <td>-1.965344</td>\n",
              "      <td>38</td>\n",
              "    </tr>\n",
              "    <tr>\n",
              "      <th>11</th>\n",
              "      <td>15</td>\n",
              "      <td>9297300055</td>\n",
              "      <td>1</td>\n",
              "      <td>4</td>\n",
              "      <td>3.00</td>\n",
              "      <td>1.057265</td>\n",
              "      <td>-0.519883</td>\n",
              "      <td>2.0</td>\n",
              "      <td>0</td>\n",
              "      <td>3</td>\n",
              "      <td>...</td>\n",
              "      <td>0.254978</td>\n",
              "      <td>1.567338</td>\n",
              "      <td>1979</td>\n",
              "      <td>0</td>\n",
              "      <td>98126</td>\n",
              "      <td>47.5714</td>\n",
              "      <td>-122.375</td>\n",
              "      <td>0.233802</td>\n",
              "      <td>-0.233035</td>\n",
              "      <td>36</td>\n",
              "    </tr>\n",
              "    <tr>\n",
              "      <th>12</th>\n",
              "      <td>16</td>\n",
              "      <td>1875500060</td>\n",
              "      <td>0</td>\n",
              "      <td>3</td>\n",
              "      <td>2.00</td>\n",
              "      <td>-0.002464</td>\n",
              "      <td>0.635072</td>\n",
              "      <td>2.0</td>\n",
              "      <td>0</td>\n",
              "      <td>0</td>\n",
              "      <td>...</td>\n",
              "      <td>0.142356</td>\n",
              "      <td>-0.659640</td>\n",
              "      <td>1994</td>\n",
              "      <td>0</td>\n",
              "      <td>98019</td>\n",
              "      <td>47.7277</td>\n",
              "      <td>-121.962</td>\n",
              "      <td>-0.135168</td>\n",
              "      <td>-1.326015</td>\n",
              "      <td>21</td>\n",
              "    </tr>\n",
              "    <tr>\n",
              "      <th>13</th>\n",
              "      <td>17</td>\n",
              "      <td>6865200140</td>\n",
              "      <td>1</td>\n",
              "      <td>4</td>\n",
              "      <td>1.00</td>\n",
              "      <td>-0.398940</td>\n",
              "      <td>-0.688598</td>\n",
              "      <td>1.5</td>\n",
              "      <td>0</td>\n",
              "      <td>0</td>\n",
              "      <td>...</td>\n",
              "      <td>-0.220540</td>\n",
              "      <td>-0.659640</td>\n",
              "      <td>1916</td>\n",
              "      <td>0</td>\n",
              "      <td>98103</td>\n",
              "      <td>47.6648</td>\n",
              "      <td>-122.343</td>\n",
              "      <td>-0.548415</td>\n",
              "      <td>-0.132959</td>\n",
              "      <td>99</td>\n",
              "    </tr>\n",
              "    <tr>\n",
              "      <th>14</th>\n",
              "      <td>19</td>\n",
              "      <td>7983200060</td>\n",
              "      <td>0</td>\n",
              "      <td>3</td>\n",
              "      <td>1.00</td>\n",
              "      <td>-0.986515</td>\n",
              "      <td>0.229921</td>\n",
              "      <td>1.0</td>\n",
              "      <td>0</td>\n",
              "      <td>0</td>\n",
              "      <td>...</td>\n",
              "      <td>-0.658517</td>\n",
              "      <td>-0.659640</td>\n",
              "      <td>1969</td>\n",
              "      <td>0</td>\n",
              "      <td>98003</td>\n",
              "      <td>47.3343</td>\n",
              "      <td>-122.306</td>\n",
              "      <td>-1.035456</td>\n",
              "      <td>1.249497</td>\n",
              "      <td>46</td>\n",
              "    </tr>\n",
              "    <tr>\n",
              "      <th>15</th>\n",
              "      <td>20</td>\n",
              "      <td>6300500875</td>\n",
              "      <td>0</td>\n",
              "      <td>4</td>\n",
              "      <td>1.75</td>\n",
              "      <td>-0.369372</td>\n",
              "      <td>-0.524367</td>\n",
              "      <td>1.0</td>\n",
              "      <td>0</td>\n",
              "      <td>0</td>\n",
              "      <td>...</td>\n",
              "      <td>-1.146549</td>\n",
              "      <td>1.085209</td>\n",
              "      <td>1947</td>\n",
              "      <td>0</td>\n",
              "      <td>98133</td>\n",
              "      <td>47.7025</td>\n",
              "      <td>-122.341</td>\n",
              "      <td>-0.858350</td>\n",
              "      <td>0.062230</td>\n",
              "      <td>68</td>\n",
              "    </tr>\n",
              "    <tr>\n",
              "      <th>16</th>\n",
              "      <td>21</td>\n",
              "      <td>2524049179</td>\n",
              "      <td>1</td>\n",
              "      <td>3</td>\n",
              "      <td>2.75</td>\n",
              "      <td>1.136612</td>\n",
              "      <td>1.934687</td>\n",
              "      <td>1.0</td>\n",
              "      <td>0</td>\n",
              "      <td>4</td>\n",
              "      <td>...</td>\n",
              "      <td>0.692956</td>\n",
              "      <td>0.993374</td>\n",
              "      <td>1968</td>\n",
              "      <td>0</td>\n",
              "      <td>98040</td>\n",
              "      <td>47.5316</td>\n",
              "      <td>-122.233</td>\n",
              "      <td>3.141290</td>\n",
              "      <td>-0.862439</td>\n",
              "      <td>47</td>\n",
              "    </tr>\n",
              "    <tr>\n",
              "      <th>17</th>\n",
              "      <td>23</td>\n",
              "      <td>8091400200</td>\n",
              "      <td>0</td>\n",
              "      <td>2</td>\n",
              "      <td>1.50</td>\n",
              "      <td>-1.356598</td>\n",
              "      <td>0.214827</td>\n",
              "      <td>1.0</td>\n",
              "      <td>0</td>\n",
              "      <td>0</td>\n",
              "      <td>...</td>\n",
              "      <td>-0.883763</td>\n",
              "      <td>-0.659640</td>\n",
              "      <td>1985</td>\n",
              "      <td>0</td>\n",
              "      <td>98030</td>\n",
              "      <td>47.3533</td>\n",
              "      <td>-122.166</td>\n",
              "      <td>-1.124009</td>\n",
              "      <td>1.093179</td>\n",
              "      <td>30</td>\n",
              "    </tr>\n",
              "    <tr>\n",
              "      <th>18</th>\n",
              "      <td>25</td>\n",
              "      <td>1202000200</td>\n",
              "      <td>0</td>\n",
              "      <td>3</td>\n",
              "      <td>2.00</td>\n",
              "      <td>-0.240682</td>\n",
              "      <td>-0.589813</td>\n",
              "      <td>1.5</td>\n",
              "      <td>0</td>\n",
              "      <td>0</td>\n",
              "      <td>...</td>\n",
              "      <td>-0.082890</td>\n",
              "      <td>-0.659640</td>\n",
              "      <td>1941</td>\n",
              "      <td>0</td>\n",
              "      <td>98002</td>\n",
              "      <td>47.3048</td>\n",
              "      <td>-122.218</td>\n",
              "      <td>-1.404427</td>\n",
              "      <td>-0.010139</td>\n",
              "      <td>74</td>\n",
              "    </tr>\n",
              "    <tr>\n",
              "      <th>19</th>\n",
              "      <td>26</td>\n",
              "      <td>1794500383</td>\n",
              "      <td>1</td>\n",
              "      <td>3</td>\n",
              "      <td>1.75</td>\n",
              "      <td>0.615222</td>\n",
              "      <td>-1.212902</td>\n",
              "      <td>2.0</td>\n",
              "      <td>0</td>\n",
              "      <td>0</td>\n",
              "      <td>...</td>\n",
              "      <td>-0.032835</td>\n",
              "      <td>0.947457</td>\n",
              "      <td>1915</td>\n",
              "      <td>0</td>\n",
              "      <td>98119</td>\n",
              "      <td>47.6386</td>\n",
              "      <td>-122.360</td>\n",
              "      <td>-0.327033</td>\n",
              "      <td>-0.401759</td>\n",
              "      <td>100</td>\n",
              "    </tr>\n",
              "  </tbody>\n",
              "</table>\n",
              "<p>20 rows × 22 columns</p>\n",
              "</div>\n",
              "      <button class=\"colab-df-convert\" onclick=\"convertToInteractive('df-517e94e6-d36e-4dd7-bfeb-15089ae61b7f')\"\n",
              "              title=\"Convert this dataframe to an interactive table.\"\n",
              "              style=\"display:none;\">\n",
              "        \n",
              "  <svg xmlns=\"http://www.w3.org/2000/svg\" height=\"24px\"viewBox=\"0 0 24 24\"\n",
              "       width=\"24px\">\n",
              "    <path d=\"M0 0h24v24H0V0z\" fill=\"none\"/>\n",
              "    <path d=\"M18.56 5.44l.94 2.06.94-2.06 2.06-.94-2.06-.94-.94-2.06-.94 2.06-2.06.94zm-11 1L8.5 8.5l.94-2.06 2.06-.94-2.06-.94L8.5 2.5l-.94 2.06-2.06.94zm10 10l.94 2.06.94-2.06 2.06-.94-2.06-.94-.94-2.06-.94 2.06-2.06.94z\"/><path d=\"M17.41 7.96l-1.37-1.37c-.4-.4-.92-.59-1.43-.59-.52 0-1.04.2-1.43.59L10.3 9.45l-7.72 7.72c-.78.78-.78 2.05 0 2.83L4 21.41c.39.39.9.59 1.41.59.51 0 1.02-.2 1.41-.59l7.78-7.78 2.81-2.81c.8-.78.8-2.07 0-2.86zM5.41 20L4 18.59l7.72-7.72 1.47 1.35L5.41 20z\"/>\n",
              "  </svg>\n",
              "      </button>\n",
              "      \n",
              "  <style>\n",
              "    .colab-df-container {\n",
              "      display:flex;\n",
              "      flex-wrap:wrap;\n",
              "      gap: 12px;\n",
              "    }\n",
              "\n",
              "    .colab-df-convert {\n",
              "      background-color: #E8F0FE;\n",
              "      border: none;\n",
              "      border-radius: 50%;\n",
              "      cursor: pointer;\n",
              "      display: none;\n",
              "      fill: #1967D2;\n",
              "      height: 32px;\n",
              "      padding: 0 0 0 0;\n",
              "      width: 32px;\n",
              "    }\n",
              "\n",
              "    .colab-df-convert:hover {\n",
              "      background-color: #E2EBFA;\n",
              "      box-shadow: 0px 1px 2px rgba(60, 64, 67, 0.3), 0px 1px 3px 1px rgba(60, 64, 67, 0.15);\n",
              "      fill: #174EA6;\n",
              "    }\n",
              "\n",
              "    [theme=dark] .colab-df-convert {\n",
              "      background-color: #3B4455;\n",
              "      fill: #D2E3FC;\n",
              "    }\n",
              "\n",
              "    [theme=dark] .colab-df-convert:hover {\n",
              "      background-color: #434B5C;\n",
              "      box-shadow: 0px 1px 3px 1px rgba(0, 0, 0, 0.15);\n",
              "      filter: drop-shadow(0px 1px 2px rgba(0, 0, 0, 0.3));\n",
              "      fill: #FFFFFF;\n",
              "    }\n",
              "  </style>\n",
              "\n",
              "      <script>\n",
              "        const buttonEl =\n",
              "          document.querySelector('#df-517e94e6-d36e-4dd7-bfeb-15089ae61b7f button.colab-df-convert');\n",
              "        buttonEl.style.display =\n",
              "          google.colab.kernel.accessAllowed ? 'block' : 'none';\n",
              "\n",
              "        async function convertToInteractive(key) {\n",
              "          const element = document.querySelector('#df-517e94e6-d36e-4dd7-bfeb-15089ae61b7f');\n",
              "          const dataTable =\n",
              "            await google.colab.kernel.invokeFunction('convertToInteractive',\n",
              "                                                     [key], {});\n",
              "          if (!dataTable) return;\n",
              "\n",
              "          const docLinkHtml = 'Like what you see? Visit the ' +\n",
              "            '<a target=\"_blank\" href=https://colab.research.google.com/notebooks/data_table.ipynb>data table notebook</a>'\n",
              "            + ' to learn more about interactive tables.';\n",
              "          element.innerHTML = '';\n",
              "          dataTable['output_type'] = 'display_data';\n",
              "          await google.colab.output.renderOutput(dataTable, element);\n",
              "          const docLink = document.createElement('div');\n",
              "          docLink.innerHTML = docLinkHtml;\n",
              "          element.appendChild(docLink);\n",
              "        }\n",
              "      </script>\n",
              "    </div>\n",
              "  </div>\n",
              "  "
            ]
          },
          "metadata": {},
          "execution_count": 279
        }
      ]
    },
    {
      "cell_type": "markdown",
      "source": [
        "### Selection of features to model\n"
      ],
      "metadata": {
        "id": "o3puLiOOP_eg"
      }
    },
    {
      "cell_type": "code",
      "source": [
        "# We separate the dataset into explanatory variables and the expected result.\n",
        "\n",
        "X_tr_class = Houses_tr_classif.loc[:,~Houses_tr_classif.columns.isin(['price', 'id', 'attribute_0'])]\n",
        "y_tr_class = Houses_tr_classif['price'] # Feature we want to predict\n",
        "X_te_class = Houses_te_classif.loc[:,~Houses_te_classif.columns.isin(['price', 'id', 'attribute_0'])]\n",
        "y_te_class = Houses_te_classif['price'] # Feature we want to predict"
      ],
      "metadata": {
        "id": "Vf-1U3UcP-yi"
      },
      "execution_count": 280,
      "outputs": []
    },
    {
      "cell_type": "markdown",
      "source": [
        "## LINEAR METHODS\n"
      ],
      "metadata": {
        "id": "Pqd0uVlqvo5f"
      }
    },
    {
      "cell_type": "markdown",
      "source": [
        "### 🟪 Logistic Regression"
      ],
      "metadata": {
        "id": "dLa711UoVTxe"
      }
    },
    {
      "cell_type": "code",
      "source": [
        "from sklearn.linear_model import LogisticRegression\n",
        "\n",
        "# We define our model and calculate its validation score\n",
        "\n",
        "classif_LR = LogisticRegression(random_state = 12345, solver = 'sag', multi_class = 'ovr')\n",
        "acc_mean_LR = np.mean(cross_val_score(classif_LR, X_tr_class, y_tr_class, cv = CV, scoring = 'accuracy'))\n",
        "\n",
        "print(\"Validation score of Logistic Regression for training set:\", round(acc_mean_LR, 4))"
      ],
      "metadata": {
        "id": "4YhAIyoqS2D8",
        "colab": {
          "base_uri": "https://localhost:8080/"
        },
        "outputId": "668a4446-3d3a-4cf3-ab9f-fd599e276f96"
      },
      "execution_count": 281,
      "outputs": [
        {
          "output_type": "stream",
          "name": "stdout",
          "text": [
            "Validation score of Logistic Regression for training set: 0.565\n"
          ]
        }
      ]
    },
    {
      "cell_type": "markdown",
      "source": [
        "### 🟪 LDA"
      ],
      "metadata": {
        "id": "ZfmnEI1cz23R"
      }
    },
    {
      "cell_type": "code",
      "source": [
        "from sklearn.discriminant_analysis import LinearDiscriminantAnalysis\n",
        "\n",
        "# We define our model and calculate its validation score\n",
        "\n",
        "classif_LDA = LinearDiscriminantAnalysis()\n",
        "acc_mean_LDA = np.mean(cross_val_score(classif_LDA, X_tr_class, y_tr_class, cv = CV, scoring = 'accuracy'))\n",
        "\n",
        "print(\"Validation score of LDA for training set:\", round(acc_mean_LDA, 4))"
      ],
      "metadata": {
        "id": "5yS8-BS2z4wI",
        "colab": {
          "base_uri": "https://localhost:8080/"
        },
        "outputId": "5e24f62f-4641-45d6-e892-65d3ccaaffb0"
      },
      "execution_count": 282,
      "outputs": [
        {
          "output_type": "stream",
          "name": "stdout",
          "text": [
            "Validation score of LDA for training set: 0.8371\n"
          ]
        }
      ]
    },
    {
      "cell_type": "markdown",
      "source": [
        "### 🟪 Naive Bayes\n"
      ],
      "metadata": {
        "id": "mFKvachleQaB"
      }
    },
    {
      "cell_type": "code",
      "source": [
        "from sklearn.naive_bayes import GaussianNB\n",
        "\n",
        "# We define our model and calculate its validation score\n",
        "\n",
        "classif_GNB = GaussianNB()\n",
        "acc_mean_GNB = np.mean(cross_val_score(classif_GNB, X_tr_class, y_tr_class, cv = CV, scoring = 'accuracy'))\n",
        "\n",
        "print(\"Validation score of Naive Bayes for training set:\", round(acc_mean_GNB, 4))"
      ],
      "metadata": {
        "id": "C_Z21GDFeO7C",
        "colab": {
          "base_uri": "https://localhost:8080/"
        },
        "outputId": "ad14e0c0-813e-4348-82fd-2016919265c9"
      },
      "execution_count": 283,
      "outputs": [
        {
          "output_type": "stream",
          "name": "stdout",
          "text": [
            "Validation score of Naive Bayes for training set: 0.757\n"
          ]
        }
      ]
    },
    {
      "cell_type": "markdown",
      "source": [
        "### 🟪 SVM"
      ],
      "metadata": {
        "id": "7J3gmL3nVW5p"
      }
    },
    {
      "cell_type": "code",
      "source": [
        "from sklearn.svm import LinearSVC\n",
        "\n",
        "# We define our model and calculate its validation score\n",
        "\n",
        "classif_SVM = LinearSVC(dual = False, tol = 1e-6)\n",
        "acc_mean_SVM = np.mean(cross_val_score(classif_SVM, X_tr_class, y_tr_class, cv = CV, scoring = 'accuracy'))\n",
        "\n",
        "print(\"Validation score of kernelized SVM for training set:\", round(acc_mean_SVM, 4))"
      ],
      "metadata": {
        "id": "1cvnD3LoVZR-",
        "colab": {
          "base_uri": "https://localhost:8080/"
        },
        "outputId": "e6834a30-2656-48ca-fa6c-11aff90aa2b1"
      },
      "execution_count": 284,
      "outputs": [
        {
          "output_type": "stream",
          "name": "stdout",
          "text": [
            "Validation score of kernelized SVM for training set: 0.8407\n"
          ]
        }
      ]
    },
    {
      "cell_type": "markdown",
      "source": [
        "## NON LINEAR METHODS"
      ],
      "metadata": {
        "id": "P-2HVZEev2La"
      }
    },
    {
      "cell_type": "markdown",
      "source": [
        "### 🟨 QDA"
      ],
      "metadata": {
        "id": "vzoqHxV71Clv"
      }
    },
    {
      "cell_type": "code",
      "source": [
        "from sklearn.discriminant_analysis import QuadraticDiscriminantAnalysis\n",
        "\n",
        "# We define our model and calculate its validation score\n",
        "\n",
        "classif_QDA = QuadraticDiscriminantAnalysis()\n",
        "acc_mean_QDA = np.mean(cross_val_score(classif_QDA, X_tr_class, y_tr_class, cv = CV, scoring = 'accuracy'))\n",
        "\n",
        "print(\"Validation score of QDA for training set:\", round(acc_mean_QDA, 4))"
      ],
      "metadata": {
        "id": "adUlWvEt1Clv",
        "colab": {
          "base_uri": "https://localhost:8080/"
        },
        "outputId": "613e3b74-2f41-43b8-a584-f52bd1e2c292"
      },
      "execution_count": 285,
      "outputs": [
        {
          "output_type": "stream",
          "name": "stdout",
          "text": [
            "Validation score of QDA for training set: 0.7446\n"
          ]
        }
      ]
    },
    {
      "cell_type": "markdown",
      "source": [
        "### 🟨 Decision tree"
      ],
      "metadata": {
        "id": "alCMkWEKxXuv"
      }
    },
    {
      "cell_type": "code",
      "source": [
        "from sklearn import tree\n",
        "\n",
        "# We define our model and calculate its validation score\n",
        "\n",
        "classif_DTC = tree.DecisionTreeClassifier()\n",
        "acc_mean_DTC = np.mean(cross_val_score(classif_DTC, X_tr_class, y_tr_class, cv = CV, scoring = 'accuracy'))\n",
        "\n",
        "print(\"Validation score of Decision Tree for training set:\", round(acc_mean_DTC, 4))"
      ],
      "metadata": {
        "id": "FOcD_jUOxXD-",
        "colab": {
          "base_uri": "https://localhost:8080/"
        },
        "outputId": "f0e00f22-5812-4736-ced1-93ea4731dd82"
      },
      "execution_count": 286,
      "outputs": [
        {
          "output_type": "stream",
          "name": "stdout",
          "text": [
            "Validation score of Decision Tree for training set: 0.8705\n"
          ]
        }
      ]
    },
    {
      "cell_type": "markdown",
      "source": [
        "### 🟨 Random Forest"
      ],
      "metadata": {
        "id": "grAFtMoRV--k"
      }
    },
    {
      "cell_type": "code",
      "source": [
        "from sklearn.ensemble import RandomForestClassifier\n",
        "\n",
        "# These are the parameters we will evaluate\n",
        "\n",
        "n_estim_tr = [80, 130, 180]\n",
        "m_depth_tr = [7, 10]\n",
        "m_features_tr = [0.4, 0.6]\n",
        "m_samples_tr = [0.25, 0.55]\n",
        "\n",
        "scores_tr = []\n",
        "\n",
        "for estimator in n_estim_tr:\n",
        "  for num_depth in m_depth_tr:\n",
        "    for num_features in m_features_tr:\n",
        "      for num_samples in m_samples_tr:\n",
        "          classif_RFC = cross_val_score(RandomForestClassifier(n_estimators = estimator, max_depth = num_depth,\n",
        "                                        max_features = num_features, max_samples = num_samples, random_state = 12345), \n",
        "                                        X_tr_class, y_tr_class, cv = CV, scoring = 'accuracy')\n",
        "          scores_tr.append({'n_estim': estimator, 'm_depth': num_depth, 'm_features': num_features, 'm_samples':num_samples, \n",
        "                            'score': np.mean(classif_RFC)}) # np.mean(classif_RFC) = Mean of validation set of CV"
      ],
      "metadata": {
        "id": "U0TZuc17WLvr"
      },
      "execution_count": 287,
      "outputs": []
    },
    {
      "cell_type": "code",
      "source": [
        "# Obtaining information about Random Forest\n",
        "\n",
        "best_rf = -np.inf\n",
        "settings_rf, total_mean_rf = [], []\n",
        "\n",
        "for i in scores_tr:\n",
        "  total_mean_rf.append(i['score'].mean())\n",
        "  if i['score'].mean() > best_rf:\n",
        "    best_rf = i['score'].mean()\n",
        "    settings_rf = ['n_estim: ', i['n_estim'], 'm_depth: ', i['m_depth'], 'm_features:', i['m_features'], 'm_samples:', i['m_samples']]\n",
        "  \n",
        "print(\"Best settings configuration: \", settings_rf)\n",
        "print(\"Best score: \", round(best_rf, 4))\n",
        "print(\"General Score mean Random Forest: \", round(np.mean(total_mean_rf), 4))"
      ],
      "metadata": {
        "id": "HS968sc4pxHG",
        "colab": {
          "base_uri": "https://localhost:8080/"
        },
        "outputId": "81397dc7-4abe-4822-d0d1-83c1340b27aa"
      },
      "execution_count": 288,
      "outputs": [
        {
          "output_type": "stream",
          "name": "stdout",
          "text": [
            "Best settings configuration:  ['n_estim: ', 80, 'm_depth: ', 10, 'm_features:', 0.6, 'm_samples:', 0.55]\n",
            "Best score:  0.9088\n",
            "General Score mean Random Forest:  0.9038\n"
          ]
        }
      ]
    },
    {
      "cell_type": "markdown",
      "source": [
        "### 🟨 Gradient Boosting Classifier\n"
      ],
      "metadata": {
        "id": "ipwmZJZ4YkDc"
      }
    },
    {
      "cell_type": "code",
      "source": [
        "from sklearn.ensemble import GradientBoostingClassifier\n",
        "\n",
        "# These are the parameters we will evaluate\n",
        "\n",
        "lr_list_gb = [0.01, 0.1]\n",
        "estim_gb = [80, 130, 180]\n",
        "depth_gb = [7, 10]\n",
        "m_features_gb = [0.4, 0.6]\n",
        "\n",
        "scores_gb = []\n",
        "\n",
        "for learning_rate in lr_list_gb:\n",
        "  for estimator in estim_gb:\n",
        "    for num_features in m_features_gb:\n",
        "      for total_depth in depth_gb:\n",
        "        classif_GBC = cross_val_score(GradientBoostingClassifier(n_estimators=estimator, learning_rate=learning_rate, \n",
        "                                      max_features=num_features, max_depth=total_depth, random_state = 12345),\n",
        "                                      X_tr_class, y_tr_class, cv = CV, scoring = 'accuracy')\n",
        "        scores_gb.append({'lr_list': learning_rate, 'estim': estimator, 'm_features_gb': num_features, \n",
        "                          'depth': total_depth, 'score': np.mean(classif_GBC)})"
      ],
      "metadata": {
        "id": "ZsiICtnLNujT"
      },
      "execution_count": 289,
      "outputs": []
    },
    {
      "cell_type": "code",
      "source": [
        "best_gb = -np.inf\n",
        "settings_gb, total_mean_gb = [], []\n",
        "mean_tr_acc_gb = None\n",
        "\n",
        "# We keep the settings corresponding to the best combination evaluated\n",
        "\n",
        "for i in scores_gb:\n",
        "  total_mean_gb.append(i['score'])\n",
        "  if i['score'] > best_gb:\n",
        "    best_gb = i['score']\n",
        "    settings_gb = ['lr_list: ', i['lr_list'], 'estim: ', i['estim'], 'm_features_gb: ', i['m_features_gb'],\n",
        "                   'depth:', i['depth'], 'score:', i['score']]\n",
        "  \n",
        "print(\"Best settings configuration: \", settings_gb[:-2])\n",
        "print(\"Best validation score: \", round(best_gb, 4))\n",
        "print(\"General Score mean Gradient Boosting: \", round(np.mean(total_mean_gb), 4))"
      ],
      "metadata": {
        "id": "3CMeIupntChv",
        "colab": {
          "base_uri": "https://localhost:8080/"
        },
        "outputId": "9c37f0e4-a70c-4ad8-de67-71c59c66d3e4"
      },
      "execution_count": 290,
      "outputs": [
        {
          "output_type": "stream",
          "name": "stdout",
          "text": [
            "Best settings configuration:  ['lr_list: ', 0.1, 'estim: ', 80, 'm_features_gb: ', 0.4, 'depth:', 7]\n",
            "Best validation score:  0.9114\n",
            "General Score mean Gradient Boosting:  0.9081\n"
          ]
        }
      ]
    },
    {
      "cell_type": "markdown",
      "source": [
        "# **Testing**"
      ],
      "metadata": {
        "id": "Jk1chW7d2RN-"
      }
    },
    {
      "cell_type": "markdown",
      "source": [
        "### Best regression model"
      ],
      "metadata": {
        "id": "G9L_4fEviRat"
      }
    },
    {
      "cell_type": "markdown",
      "source": [
        "The best regression model was chosen to be the Gradient Boosting Regressor."
      ],
      "metadata": {
        "id": "kfo2JMmItFfu"
      }
    },
    {
      "cell_type": "code",
      "source": [
        "# We fit a Gradient Boosting method with the best calculated parameters to our data\n",
        "\n",
        "best_GBR = HistGradientBoostingRegressor(learning_rate = 0.1, max_depth = 10, max_bins = 255, random_state = 12345)\n",
        "best_GBR.fit(X_tr_reg, np.ravel(y_tr_reg))\n",
        "\n",
        "print(\"Test score best set parameters of Gradient Boosting Regressor:\", round(best_GBR.score(X_te_reg,y_te_reg), 4))"
      ],
      "metadata": {
        "id": "rgEs6B8LiC4j",
        "colab": {
          "base_uri": "https://localhost:8080/"
        },
        "outputId": "a6cc6caa-0894-4710-bf7d-ccf64c6bef3b"
      },
      "execution_count": 291,
      "outputs": [
        {
          "output_type": "stream",
          "name": "stdout",
          "text": [
            "Test score best set parameters of Gradient Boosting Regressor: 0.9\n"
          ]
        }
      ]
    },
    {
      "cell_type": "markdown",
      "source": [
        "### Best classification models"
      ],
      "metadata": {
        "id": "cerFn0FCio20"
      }
    },
    {
      "cell_type": "markdown",
      "source": [
        "The best classification models were chosen to be LDA and Gradient Boosting Classifier."
      ],
      "metadata": {
        "id": "sBKWUeOgtNt1"
      }
    },
    {
      "cell_type": "code",
      "source": [
        "from sklearn.metrics import confusion_matrix, ConfusionMatrixDisplay"
      ],
      "metadata": {
        "id": "YfAjwIgZo8z4"
      },
      "execution_count": 292,
      "outputs": []
    },
    {
      "cell_type": "code",
      "source": [
        "LDA_fitted = LinearDiscriminantAnalysis().fit(X_tr_class,y_tr_class)\n",
        "\n",
        "print(\"Test score LDA:\", round(LDA_fitted.score(X_te_class,y_te_class), 4))"
      ],
      "metadata": {
        "id": "wGD3n_Uqp51W",
        "colab": {
          "base_uri": "https://localhost:8080/"
        },
        "outputId": "6fd89d1a-97c3-4c7d-ba29-4cd89507c3a8"
      },
      "execution_count": 293,
      "outputs": [
        {
          "output_type": "stream",
          "name": "stdout",
          "text": [
            "Test score LDA: 0.8477\n"
          ]
        }
      ]
    },
    {
      "cell_type": "code",
      "source": [
        "predictions_lda = LDA_fitted.predict(X_te_class)\n",
        "conf_matr_lda = confusion_matrix(y_te_class, predictions_lda, labels = LDA_fitted.classes_, normalize = 'all')\n",
        "\n",
        "disp_lda = ConfusionMatrixDisplay(confusion_matrix = conf_matr_lda,\n",
        "                                  display_labels = LDA_fitted.classes_)\n",
        "disp_lda.plot(cmap = 'Greens',  values_format = '.3%')\n",
        "plt.title(\"Confusion Matrix of LDA \\n\", fontsize = 17, color = \"green\")"
      ],
      "metadata": {
        "id": "ckkIEm2pojMV",
        "colab": {
          "base_uri": "https://localhost:8080/",
          "height": 338
        },
        "outputId": "ef98125c-0711-4d0f-f44f-a878b5dbab5e"
      },
      "execution_count": 294,
      "outputs": [
        {
          "output_type": "execute_result",
          "data": {
            "text/plain": [
              "Text(0.5, 1.0, 'Confusion Matrix of LDA \\n')"
            ]
          },
          "metadata": {},
          "execution_count": 294
        },
        {
          "output_type": "display_data",
          "data": {
            "text/plain": [
              "<Figure size 432x288 with 2 Axes>"
            ],
            "image/png": "[encoded data removed]"
          },
          "metadata": {
            "needs_background": "light"
          }
        }
      ]
    },
    {
      "cell_type": "code",
      "source": [
        "best_RFC = RandomForestClassifier(n_estimators = 80, max_depth = 10, max_features = 0.6,\n",
        "                                  max_samples = 0.55, random_state = 12345).fit(X_tr_class, y_tr_class)\n",
        "\n",
        "print(\"Test score best set parameters of Random Forest:\", round(best_RFC.score(X_te_class,y_te_class), 4))"
      ],
      "metadata": {
        "id": "KZwDl7RhXj9t",
        "colab": {
          "base_uri": "https://localhost:8080/"
        },
        "outputId": "53e60e9b-a92c-4199-a5f7-82789043bfc2"
      },
      "execution_count": 295,
      "outputs": [
        {
          "output_type": "stream",
          "name": "stdout",
          "text": [
            "Test score best set parameters of Random Forest: 0.9182\n"
          ]
        }
      ]
    },
    {
      "cell_type": "code",
      "source": [
        "predictions_rfc = best_RFC.predict(X_te_class)\n",
        "conf_matr_rfc = confusion_matrix(y_te_class, predictions_rfc, labels = best_RFC.classes_, normalize = 'all')\n",
        "\n",
        "disp_rfc = ConfusionMatrixDisplay(confusion_matrix = conf_matr_rfc,\n",
        "                                  display_labels = best_RFC.classes_)\n",
        "disp_rfc.plot(cmap = 'Greens',  values_format = '.3%')\n",
        "plt.title(\"Confusion Matrix of \\n Random Forest \\n\", fontsize = 17, color = \"green\")"
      ],
      "metadata": {
        "id": "ypsqa38EezOi",
        "colab": {
          "base_uri": "https://localhost:8080/",
          "height": 359
        },
        "outputId": "9ae8b35a-abb5-494f-eb6b-40ce87f0a965"
      },
      "execution_count": 296,
      "outputs": [
        {
          "output_type": "execute_result",
          "data": {
            "text/plain": [
              "Text(0.5, 1.0, 'Confusion Matrix of \\n Random Forest \\n')"
            ]
          },
          "metadata": {},
          "execution_count": 296
        },
        {
          "output_type": "display_data",
          "data": {
            "text/plain": [
              "<Figure size 432x288 with 2 Axes>"
            ],
            "image/png": "[encoded data removed]"
          },
          "metadata": {
            "needs_background": "light"
          }
        }
      ]
    },
    {
      "cell_type": "code",
      "source": [
        "best_GBC = GradientBoostingClassifier(learning_rate = 0.1, n_estimators = 80, max_features = 0.4, max_depth = 7,\n",
        "                                      random_state = 12345).fit(X_tr_class, y_tr_class)\n",
        "\n",
        "print(\"Test score best set parameters of Gradient Boosting Classifier:\", round(best_GBC.score(X_te_class,y_te_class), 4))"
      ],
      "metadata": {
        "id": "F7uEG2KZDu85",
        "colab": {
          "base_uri": "https://localhost:8080/"
        },
        "outputId": "1d4fd369-d4e3-4e20-c64d-f7986920ed9a"
      },
      "execution_count": 297,
      "outputs": [
        {
          "output_type": "stream",
          "name": "stdout",
          "text": [
            "Test score best set parameters of Gradient Boosting Classifier: 0.9224\n"
          ]
        }
      ]
    },
    {
      "cell_type": "code",
      "source": [
        "predictions_gbc = best_GBC.predict(X_te_class)\n",
        "conf_matr_gbc = confusion_matrix(y_te_class, predictions_gbc, labels = best_GBC.classes_, normalize = 'all')\n",
        "\n",
        "disp_gbc = ConfusionMatrixDisplay(confusion_matrix = conf_matr_gbc,\n",
        "                                  display_labels = best_GBC.classes_)\n",
        "disp_gbc.plot(cmap = 'Greens', values_format = '.3%')\n",
        "plt.title(\"Confusion Matrix of \\n Gradient Boosting Classifier \\n\", fontsize = 17, color = \"green\")"
      ],
      "metadata": {
        "id": "4HkDpSVLX9s0",
        "colab": {
          "base_uri": "https://localhost:8080/",
          "height": 359
        },
        "outputId": "c2c924b5-d7b2-4f5e-af0f-fbbd80504f06"
      },
      "execution_count": 298,
      "outputs": [
        {
          "output_type": "execute_result",
          "data": {
            "text/plain": [
              "Text(0.5, 1.0, 'Confusion Matrix of \\n Gradient Boosting Classifier \\n')"
            ]
          },
          "metadata": {},
          "execution_count": 298
        },
        {
          "output_type": "display_data",
          "data": {
            "text/plain": [
              "<Figure size 432x288 with 2 Axes>"
            ],
            "image/png": "[encoded data removed]"
          },
          "metadata": {
            "needs_background": "light"
          }
        }
      ]
    },
    {
      "cell_type": "markdown",
      "source": [
        "## **Personal predictions**"
      ],
      "metadata": {
        "id": "7rzqWGwCWHIL"
      }
    },
    {
      "cell_type": "markdown",
      "source": [
        "### Data definition"
      ],
      "metadata": {
        "id": "6TZiu2-RWO9I"
      }
    },
    {
      "cell_type": "code",
      "source": [
        "from pandas.core.frame import DataFrame\n",
        "\n",
        "# As we don't own a house in Seattle we will situate the data in the most expensive area and the cheapest one in order to see how this would affect our price\n",
        "\n",
        "pol_data_WC = {'bedrooms':[3], 'bathrooms':[2], 'sqm_living':[np.log(105)], 'sqm_lot':[np.log(230)], 'floors':[1], 'waterfront':[0], 'view':[3], \n",
        "               'condition':[3], 'grade':[8], 'sqm_above':[np.log(105)], 'sqm_basement':[17], 'yr_built':[2005], 'yr_renovated':[0], 'zipcode':[98102], \n",
        "               'lat':[47.6298], 'long':[-122.323], 'sqm_living15':[np.log(105)], 'sqm_lot15':[np.log(200)], 'age':[10]}\n",
        "pol_data_BC = {'bedrooms':[3], 'bathrooms':[2], 'sqm_living':[np.log(105)], 'sqm_lot':[np.log(230)], 'floors':[1], 'waterfront':[0], 'view':[3], \n",
        "               'condition':[3], 'grade':[8], 'sqm_above':[np.log(105)], 'sqm_basement':[17], 'yr_built':[2005], 'yr_renovated':[0], 'zipcode':[98168], \n",
        "               'lat':[47.4739], 'long':[-122.280], 'sqm_living15':[np.log(105)], 'sqm_lot15':[np.log(200)], 'age':[10]}\n",
        "\n",
        "pol_data_WC_df = DataFrame(pol_data_WC)\n",
        "pol_data_BC_df = DataFrame(pol_data_BC)"
      ],
      "metadata": {
        "id": "AUHYfw-di6aB"
      },
      "execution_count": 299,
      "outputs": []
    },
    {
      "cell_type": "markdown",
      "source": [
        "### Prediction with Regresssion methods"
      ],
      "metadata": {
        "id": "HUBtJ2kJV5LB"
      }
    },
    {
      "cell_type": "markdown",
      "source": [
        "In order to predict, the changes made on the 'price' variable need to be reverted. "
      ],
      "metadata": {
        "id": "oclPTtLLDINo"
      }
    },
    {
      "cell_type": "code",
      "source": [
        "pred_WC = best_GBR.predict(pol_data_WC_df)\n",
        "pred_BC = best_GBR.predict(pol_data_BC_df)\n",
        "real_pred_WC = np.exp(pred_WC*std_numeric_tr[\"price\"] + mean_numeric_tr[\"price\"])\n",
        "real_pred_BC = np.exp(pred_BC*std_numeric_tr[\"price\"] + mean_numeric_tr[\"price\"]) \n",
        "\n",
        "print(\"Prediction for the house located in the well-off area with Gradient Boosting Regressor: \", math.ceil(real_pred_WC[0]), \"$\", sep = \"\")\n",
        "print(\"Prediction for the house located in the bad-off area with Gradient Boosting Regressor: \", math.floor(real_pred_BC[0]), \"$\", sep = \"\")"
      ],
      "metadata": {
        "id": "anP5G9guVsae",
        "colab": {
          "base_uri": "https://localhost:8080/"
        },
        "outputId": "017b738c-41b2-4458-8753-e3fa46f029e8"
      },
      "execution_count": 300,
      "outputs": [
        {
          "output_type": "stream",
          "name": "stdout",
          "text": [
            "Prediction for the house located in the well-off area with Gradient Boosting Regressor: 1623806$\n",
            "Prediction for the house located in the bad-off area with Gradient Boosting Regressor: 843650$\n"
          ]
        }
      ]
    },
    {
      "cell_type": "markdown",
      "source": [
        "### Prediction with classification methods"
      ],
      "metadata": {
        "id": "XK5nUMU23FCE"
      }
    },
    {
      "cell_type": "markdown",
      "source": [
        "#### LDA"
      ],
      "metadata": {
        "id": "40s_WgRbH_8e"
      }
    },
    {
      "cell_type": "code",
      "source": [
        "print(\"Prediction for the house located in the well-off area with LDA: \", LDA_fitted.predict(pol_data_WC_df)[0])\n",
        "print(\"Prediction for the house located in the bad-off area with LDA: \", LDA_fitted.predict(pol_data_BC_df)[0])"
      ],
      "metadata": {
        "id": "XObqIfdi3AdB",
        "colab": {
          "base_uri": "https://localhost:8080/"
        },
        "outputId": "6cb658db-a035-412b-d46e-a797dd5cada4"
      },
      "execution_count": 301,
      "outputs": [
        {
          "output_type": "stream",
          "name": "stdout",
          "text": [
            "Prediction for the house located in the well-off area with LDA:  0\n",
            "Prediction for the house located in the bad-off area with LDA:  0\n"
          ]
        }
      ]
    },
    {
      "cell_type": "markdown",
      "source": [
        "#### Gradient Boosting Classifier"
      ],
      "metadata": {
        "id": "gLzY7jp1IC4V"
      }
    },
    {
      "cell_type": "code",
      "source": [
        "print(\"Prediction for the house located in the well-off area with Gradient Boosting Classifier: \", best_GBC.predict(pol_data_WC_df)[0])\n",
        "print(\"Prediction for the house located in the bad-off area with Gradient Boosting Classifier: \", best_GBC.predict(pol_data_BC_df)[0])"
      ],
      "metadata": {
        "id": "kNg8_qtBD3VB",
        "colab": {
          "base_uri": "https://localhost:8080/"
        },
        "outputId": "bb0c875a-131f-46b1-a44b-d8d79d845a5f"
      },
      "execution_count": 302,
      "outputs": [
        {
          "output_type": "stream",
          "name": "stdout",
          "text": [
            "Prediction for the house located in the well-off area with Gradient Boosting Classifier:  1\n",
            "Prediction for the house located in the bad-off area with Gradient Boosting Classifier:  1\n"
          ]
        }
      ]
    },
    {
      "cell_type": "markdown",
      "source": [
        "#### Random Forest"
      ],
      "metadata": {
        "id": "sOjFWsriGmHc"
      }
    },
    {
      "cell_type": "code",
      "source": [
        "print(\"Prediction for the house located in the well-off area with Random Forest: \", best_RFC.predict(pol_data_WC_df)[0])\n",
        "print(\"Prediction for the house located in the bad-off area with Random Forest: \", best_RFC.predict(pol_data_BC_df)[0])"
      ],
      "metadata": {
        "colab": {
          "base_uri": "https://localhost:8080/"
        },
        "id": "pmMPIltXFbNO",
        "outputId": "838481de-7bc4-48ad-a40c-3b8c2faccc85"
      },
      "execution_count": 303,
      "outputs": [
        {
          "output_type": "stream",
          "name": "stdout",
          "text": [
            "Prediction for the house located in the well-off area with Random Forest:  1\n",
            "Prediction for the house located in the bad-off area with Random Forest:  1\n"
          ]
        }
      ]
    }
  ]
}